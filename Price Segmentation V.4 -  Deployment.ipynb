{
 "cells": [
  {
   "cell_type": "code",
   "execution_count": 60,
   "metadata": {
    "ExecuteTime": {
     "end_time": "2021-07-27T01:37:15.820750Z",
     "start_time": "2021-07-27T01:37:15.806092Z"
    }
   },
   "outputs": [
    {
     "name": "stdout",
     "output_type": "stream",
     "text": [
      "/home/cst/SmartTradzt/PriceSegmentation\n",
      "2021-07-27\n"
     ]
    }
   ],
   "source": [
    "import os, glob, inspect\n",
    "import copy\n",
    "import numpy as np\n",
    "import pandas as pd\n",
    "# pd.set_option('display.max_rows', 250)\n",
    "pd.set_option('display.max_columns', 200)\n",
    "\n",
    "import seaborn as sns\n",
    "import matplotlib.pyplot as plt\n",
    "%matplotlib inline\n",
    "from scipy.stats import rankdata\n",
    "from scipy import stats\n",
    "from datetime import datetime, timedelta\n",
    "import string\n",
    "\n",
    "from sklearn.preprocessing import LabelEncoder\n",
    "from sklearn.preprocessing import OneHotEncoder\n",
    "from sklearn.model_selection import train_test_split\n",
    "from sklearn.linear_model import LinearRegression\n",
    "from sklearn import metrics\n",
    "import statsmodels.api as sm\n",
    "from sklearn.preprocessing import StandardScaler, MinMaxScaler\n",
    "from sklearn import mixture\n",
    "from math import pi\n",
    "from sklearn.cluster import DBSCAN, KMeans\n",
    "from sklearn.decomposition import PCA\n",
    "from kneed import DataGenerator, KneeLocator\n",
    "from sklearn.feature_selection import f_regression\n",
    "import pprint\n",
    "import sklearn\n",
    "from sklearn import tree\n",
    "from sklearn.tree import export_text\n",
    "from sklearn.tree import _tree\n",
    "from sklearn.tree import DecisionTreeRegressor, DecisionTreeClassifier, _tree\n",
    "import uuid\n",
    "from importlib.machinery import SourceFileLoader\n",
    "\n",
    "cwd = os.getcwd()\n",
    "today = datetime.today().strftime('%Y-%m-%d')\n",
    "colors = ['r','g','b','c','m','y','k']\n",
    "\n",
    "print(cwd)\n",
    "print(today)"
   ]
  },
  {
   "cell_type": "markdown",
   "metadata": {},
   "source": [
    "# Functions and Constanta"
   ]
  },
  {
   "cell_type": "code",
   "execution_count": 46,
   "metadata": {
    "ExecuteTime": {
     "end_time": "2021-07-27T01:26:58.448336Z",
     "start_time": "2021-07-27T01:26:58.433253Z"
    }
   },
   "outputs": [],
   "source": [
    "def mean_absolute_percentage_error(y_true, y_pred): \n",
    "    y_true, y_pred = np.array(y_true), np.array(y_pred)\n",
    "    return np.mean(np.abs((y_true - y_pred) / y_true)) * 100\n",
    "\n",
    "def export_py_code(tree, feature_names, max_depth=100, spacing=4):\n",
    "    if spacing < 2:\n",
    "        raise ValueError('spacing must be > 1')\n",
    "\n",
    "    # Clean up feature names (for correctness)\n",
    "    nums = string.digits\n",
    "    alnums = string.ascii_letters + nums\n",
    "    clean = lambda s: ''.join(c if c in alnums else '_' for c in s)\n",
    "    features = [clean(x) for x in feature_names]\n",
    "    features = ['_'+x if x[0] in nums else x for x in features if x]\n",
    "    if len(set(features)) != len(feature_names):\n",
    "        raise ValueError('invalid feature names')\n",
    "\n",
    "    # First: export tree to text\n",
    "    res = export_text(tree, feature_names=features, \n",
    "                        max_depth=max_depth,\n",
    "                        decimals=6,\n",
    "                        spacing=spacing-1)\n",
    "\n",
    "    # Second: generate Python code from the text\n",
    "    skip, dash = ' '*spacing, '-'*(spacing-1)\n",
    "    code = 'def decision_tree({}):\\n'.format(', '.join(features))\n",
    "    for line in repr(tree).split('\\n'):\n",
    "        code += skip + \"# \" + line + '\\n'\n",
    "    for line in res.split('\\n'):\n",
    "        line = line.rstrip().replace('|',' ')\n",
    "        if '<' in line or '>' in line:\n",
    "            line, val = line.rsplit(maxsplit=1)\n",
    "            line = line.replace(' ' + dash, 'if')\n",
    "            line = '{} {:g}:'.format(line, float(val))\n",
    "        else:\n",
    "            line = line.replace(' {} class:'.format(dash), 'return')\n",
    "        code += skip + line + '\\n'\n",
    "\n",
    "    return code.replace('- value:','return').replace('-','')\n",
    "\n",
    "def get_func_args(f):\n",
    "    if hasattr(f, 'args'):\n",
    "        return f.args\n",
    "    else:\n",
    "        return list(inspect.signature(f).parameters)\n",
    "\n",
    "def tree_to_df(reg_tree, feature_names):\n",
    "    tree_ = reg_tree.tree_\n",
    "    feature_name = [\n",
    "        feature_names[i] if i != sklearn.tree._tree.TREE_UNDEFINED else \"undefined!\"\n",
    "        for i in tree_.feature\n",
    "    ]\n",
    "    \n",
    "    def recurse(node, row, ret):\n",
    "        if tree_.feature[node] != sklearn.tree._tree.TREE_UNDEFINED:\n",
    "            name = feature_name[node]\n",
    "            threshold = tree_.threshold[node]\n",
    "            # Add rule to row and search left branch\n",
    "            row[-1].append(name + \" <= \" +  str(threshold))\n",
    "            recurse(tree_.children_left[node], row, ret)\n",
    "            # Add rule to row and search right branch\n",
    "            row[-1].append(name + \" > \" +  str(threshold))\n",
    "            recurse(tree_.children_right[node], row, ret)\n",
    "        else:\n",
    "            # Add output rules and start a new row\n",
    "            label = tree_.value[node]\n",
    "            ret.append(\"return \" + str(label[0][0]))\n",
    "            row.append([])\n",
    "    \n",
    "    # Initialize\n",
    "    rules = [[]]\n",
    "    vals = []\n",
    "    \n",
    "    # Call recursive function with initial values\n",
    "    recurse(0, rules, vals)\n",
    "    \n",
    "    # Convert to table and output\n",
    "    df = pd.DataFrame(rules).dropna(how='all')\n",
    "    df['Return'] = pd.Series(vals)\n",
    "    return df\n",
    "\n",
    "\n",
    "def get_rules(tree, feature_names, class_names):\n",
    "    tree_ = tree.tree_\n",
    "    feature_name = [\n",
    "        feature_names[i] if i != _tree.TREE_UNDEFINED else \"undefined!\"\n",
    "        for i in tree_.feature\n",
    "    ]\n",
    "\n",
    "    paths = []\n",
    "    path = []\n",
    "    \n",
    "    def recurse(node, path, paths):\n",
    "        \n",
    "        if tree_.feature[node] != _tree.TREE_UNDEFINED:\n",
    "            name = feature_name[node]\n",
    "            threshold = tree_.threshold[node]\n",
    "            p1, p2 = list(path), list(path)\n",
    "            p1 += [f\"({name} <= {np.round(threshold, 3)})\"]\n",
    "            recurse(tree_.children_left[node], p1, paths)\n",
    "            p2 += [f\"({name} > {np.round(threshold, 3)})\"]\n",
    "            recurse(tree_.children_right[node], p2, paths)\n",
    "        else:\n",
    "            path += [(tree_.value[node], tree_.n_node_samples[node])]\n",
    "            paths += [path]\n",
    "            \n",
    "    recurse(0, path, paths)\n",
    "\n",
    "    # sort by samples count\n",
    "    samples_count = [p[-1][1] for p in paths]\n",
    "    ii = list(np.argsort(samples_count))\n",
    "    paths = [paths[i] for i in reversed(ii)]\n",
    "    \n",
    "    rules = []\n",
    "    for path in paths:\n",
    "        rule = \"if \"\n",
    "        \n",
    "        for p in path[:-1]:\n",
    "            if rule != \"if \":\n",
    "                rule += \" and \"\n",
    "            rule += str(p)\n",
    "        rule += \" then \"\n",
    "        if class_names is None:\n",
    "            rule += \"response: \"+str(np.round(path[-1][0][0][0],3))\n",
    "        else:\n",
    "            classes = path[-1][0][0]\n",
    "            l = np.argmax(classes)\n",
    "            rule += f\"class: {class_names[l]} (proba: {np.round(100.0*classes[l]/np.sum(classes),2)}%)\"\n",
    "        rule += f\" | based on {path[-1][1]:,} samples\"\n",
    "        rules += [rule]\n",
    "        \n",
    "    return rules\n",
    "\n",
    "def tree_to_df(reg_tree, feature_names):\n",
    "    tree_ = reg_tree.tree_\n",
    "    feature_name = [\n",
    "        feature_names[i] if i != sklearn.tree._tree.TREE_UNDEFINED else \"undefined!\"\n",
    "        for i in tree_.feature\n",
    "    ]\n",
    "    \n",
    "    def recurse(node, row, ret):\n",
    "        if tree_.feature[node] != sklearn.tree._tree.TREE_UNDEFINED:\n",
    "            name = feature_name[node]\n",
    "            threshold = tree_.threshold[node]\n",
    "            # Add rule to row and search left branch\n",
    "            row[-1].append(name + \" <= \" +  str(threshold))\n",
    "            recurse(tree_.children_left[node], row, ret)\n",
    "            # Add rule to row and search right branch\n",
    "            row[-1].append(name + \" > \" +  str(threshold))\n",
    "            recurse(tree_.children_right[node], row, ret)\n",
    "        else:\n",
    "            # Add output rules and start a new row\n",
    "            label = tree_.value[node]\n",
    "            ret.append(\"return \" + str(label[0][0]))\n",
    "            row.append([])\n",
    "    \n",
    "    # Initialize\n",
    "    rules = [[]]\n",
    "    vals = []\n",
    "    \n",
    "    # Call recursive function with initial values\n",
    "    recurse(0, rules, vals)\n",
    "    \n",
    "    # Convert to table and output\n",
    "    df = pd.DataFrame(rules).dropna(how='all')\n",
    "    df['Return'] = pd.Series(vals)\n",
    "    return df"
   ]
  },
  {
   "cell_type": "code",
   "execution_count": 88,
   "metadata": {
    "ExecuteTime": {
     "end_time": "2021-07-27T01:58:38.504260Z",
     "start_time": "2021-07-27T01:58:38.502167Z"
    }
   },
   "outputs": [],
   "source": [
    "# Set minimum accepted cluster\n",
    "\n",
    "# min_cluster = 3\n",
    "# min_component = 2 # for PCA\n",
    "categorical_features = []\n",
    "numerical_features = []\n",
    "target = 'Price Premium'\n",
    "\n",
    "# tree setting\n",
    "max_depth=3\n",
    "min_samples_split=100\n",
    "ccp_alpha=0.001"
   ]
  },
  {
   "cell_type": "code",
   "execution_count": 4,
   "metadata": {
    "ExecuteTime": {
     "end_time": "2021-07-27T01:04:10.928192Z",
     "start_time": "2021-07-27T01:04:10.925996Z"
    }
   },
   "outputs": [
    {
     "name": "stdout",
     "output_type": "stream",
     "text": [
      "/home/cst/SmartTradzt/PriceSegmentation/InternalData/Polymer Spot Sales Contract v2.xlsx\n"
     ]
    }
   ],
   "source": [
    "filename = 'Polymer Spot Sales Contract v2.xlsx'\n",
    "filepath = os.path.join(cwd,'InternalData',filename)\n",
    "print(filepath)"
   ]
  },
  {
   "cell_type": "code",
   "execution_count": 5,
   "metadata": {
    "ExecuteTime": {
     "end_time": "2021-07-27T01:04:11.640062Z",
     "start_time": "2021-07-27T01:04:11.244583Z"
    }
   },
   "outputs": [],
   "source": [
    "data = pd.read_excel(filepath,sheet_name='Polymer Spot Sales Contract')"
   ]
  },
  {
   "cell_type": "code",
   "execution_count": 6,
   "metadata": {
    "ExecuteTime": {
     "end_time": "2021-07-27T01:04:11.696611Z",
     "start_time": "2021-07-27T01:04:11.692731Z"
    }
   },
   "outputs": [
    {
     "data": {
      "text/plain": [
       "(1817, 33)"
      ]
     },
     "execution_count": 6,
     "metadata": {},
     "output_type": "execute_result"
    }
   ],
   "source": [
    "data.shape"
   ]
  },
  {
   "cell_type": "code",
   "execution_count": 7,
   "metadata": {
    "ExecuteTime": {
     "end_time": "2021-07-27T01:04:16.973223Z",
     "start_time": "2021-07-27T01:04:16.968202Z"
    }
   },
   "outputs": [],
   "source": [
    "# data['Price Premium Pctg'] = data['Price Premium']/data['REFERENCE_MARKET_PRICE']"
   ]
  },
  {
   "cell_type": "code",
   "execution_count": 8,
   "metadata": {
    "ExecuteTime": {
     "end_time": "2021-07-27T01:04:21.176550Z",
     "start_time": "2021-07-27T01:04:21.169874Z"
    }
   },
   "outputs": [],
   "source": [
    "# Fill in empty data\n",
    "data['Customer Industry'].fillna('No Customer Industry',inplace=True)\n",
    "data['Customer Type'].fillna('No Customer Type',inplace=True)\n",
    "data['Cross Boarder'].fillna('No Cross Boarder',inplace=True)"
   ]
  },
  {
   "cell_type": "code",
   "execution_count": 9,
   "metadata": {
    "ExecuteTime": {
     "end_time": "2021-07-27T01:04:23.162857Z",
     "start_time": "2021-07-27T01:04:23.136907Z"
    }
   },
   "outputs": [
    {
     "data": {
      "text/html": [
       "<div>\n",
       "<style scoped>\n",
       "    .dataframe tbody tr th:only-of-type {\n",
       "        vertical-align: middle;\n",
       "    }\n",
       "\n",
       "    .dataframe tbody tr th {\n",
       "        vertical-align: top;\n",
       "    }\n",
       "\n",
       "    .dataframe thead th {\n",
       "        text-align: right;\n",
       "    }\n",
       "</style>\n",
       "<table border=\"1\" class=\"dataframe\">\n",
       "  <thead>\n",
       "    <tr style=\"text-align: right;\">\n",
       "      <th></th>\n",
       "      <th>Contract Execution Date</th>\n",
       "      <th>PMT No.</th>\n",
       "      <th>Item No</th>\n",
       "      <th>Sales Contract No.</th>\n",
       "      <th>Contract/Spot</th>\n",
       "      <th>Sold to Customer Name</th>\n",
       "      <th>Sold to Customer Code</th>\n",
       "      <th>Customer Type</th>\n",
       "      <th>Customer Industry</th>\n",
       "      <th>Grade</th>\n",
       "      <th>Material</th>\n",
       "      <th>Payment Term</th>\n",
       "      <th>Incoterm</th>\n",
       "      <th>Country</th>\n",
       "      <th>Destination Port</th>\n",
       "      <th>City State</th>\n",
       "      <th>Shipping Condition</th>\n",
       "      <th>Export/Domestic</th>\n",
       "      <th>Cross Boarder</th>\n",
       "      <th>Plant</th>\n",
       "      <th>RETA</th>\n",
       "      <th>BL Date</th>\n",
       "      <th>EXCHANGE_RATE</th>\n",
       "      <th>QUANTITY</th>\n",
       "      <th>UOM</th>\n",
       "      <th>Currency</th>\n",
       "      <th>FLOOR_PRICE</th>\n",
       "      <th>NORMALISED_INVOICE_PRICE</th>\n",
       "      <th>REFERENCE_MARKET_PRICE</th>\n",
       "      <th>Price Premium</th>\n",
       "      <th>PRODUCTBASEPRICE</th>\n",
       "      <th>GRADEALPHA</th>\n",
       "      <th>INVOICEPRICE</th>\n",
       "    </tr>\n",
       "  </thead>\n",
       "  <tbody>\n",
       "    <tr>\n",
       "      <th>0</th>\n",
       "      <td>2017-08-04</td>\n",
       "      <td>QTN-0000012192-1</td>\n",
       "      <td>1</td>\n",
       "      <td>30010898</td>\n",
       "      <td>QUOTATION</td>\n",
       "      <td>DURA-MINE SDN BHD.</td>\n",
       "      <td>8010000770</td>\n",
       "      <td>End Customer</td>\n",
       "      <td>Mfg-Petroleum Prod</td>\n",
       "      <td>HD5301AA</td>\n",
       "      <td>72000544</td>\n",
       "      <td>ZB30</td>\n",
       "      <td>DAP</td>\n",
       "      <td>Malaysia</td>\n",
       "      <td>MYSG00 KLANG VALLEY</td>\n",
       "      <td>MYSG00 KLANG VALLEY</td>\n",
       "      <td>TRUCK PACK(Drum)</td>\n",
       "      <td>DOMESTIC</td>\n",
       "      <td>NONCROSSBORDER</td>\n",
       "      <td>M167</td>\n",
       "      <td>2017-08-08</td>\n",
       "      <td>2017-08-01</td>\n",
       "      <td>4.29</td>\n",
       "      <td>22.0</td>\n",
       "      <td>MT</td>\n",
       "      <td>USD</td>\n",
       "      <td>1070.0</td>\n",
       "      <td>1150.98423</td>\n",
       "      <td>1086.25</td>\n",
       "      <td>64.73423</td>\n",
       "      <td>1090.0</td>\n",
       "      <td>20.000000</td>\n",
       "      <td>1177.000000</td>\n",
       "    </tr>\n",
       "    <tr>\n",
       "      <th>1</th>\n",
       "      <td>2017-11-22</td>\n",
       "      <td>QTN-0000013779-1</td>\n",
       "      <td>1</td>\n",
       "      <td>30012429</td>\n",
       "      <td>QUOTATION</td>\n",
       "      <td>CJ POLYMERS SDN. BHD.</td>\n",
       "      <td>8010000714</td>\n",
       "      <td>Distributor / Trader</td>\n",
       "      <td>Mfg-Petroleum Prod</td>\n",
       "      <td>C150Y</td>\n",
       "      <td>72000448</td>\n",
       "      <td>TT60SBLC</td>\n",
       "      <td>CFR</td>\n",
       "      <td>Bangladesh</td>\n",
       "      <td>BDCGP CHITTAGONG</td>\n",
       "      <td>NaN</td>\n",
       "      <td>MARINE PACK</td>\n",
       "      <td>EXPORT</td>\n",
       "      <td>NONCROSSBORDER</td>\n",
       "      <td>M059</td>\n",
       "      <td>2018-01-10</td>\n",
       "      <td>2018-01-03</td>\n",
       "      <td>4.22</td>\n",
       "      <td>306.0</td>\n",
       "      <td>MT</td>\n",
       "      <td>USD</td>\n",
       "      <td>1290.0</td>\n",
       "      <td>1235.58130</td>\n",
       "      <td>1288.75</td>\n",
       "      <td>-53.16870</td>\n",
       "      <td>1290.0</td>\n",
       "      <td>41.669931</td>\n",
       "      <td>1279.999931</td>\n",
       "    </tr>\n",
       "    <tr>\n",
       "      <th>2</th>\n",
       "      <td>2017-09-11</td>\n",
       "      <td>QTN-0000012648-1</td>\n",
       "      <td>1</td>\n",
       "      <td>30011297</td>\n",
       "      <td>QUOTATION</td>\n",
       "      <td>SUMIKENG (M) SDN BHD</td>\n",
       "      <td>8010001403</td>\n",
       "      <td>Distributor / Trader</td>\n",
       "      <td>Mfg-Petroleum Prod</td>\n",
       "      <td>HD5201AA</td>\n",
       "      <td>72000539</td>\n",
       "      <td>ZM60</td>\n",
       "      <td>DAP</td>\n",
       "      <td>Malaysia</td>\n",
       "      <td>MYPG04 PRAI</td>\n",
       "      <td>MYPG04 PRAI</td>\n",
       "      <td>TRUCK PACK(Drum)</td>\n",
       "      <td>DOMESTIC</td>\n",
       "      <td>NONCROSSBORDER</td>\n",
       "      <td>M167</td>\n",
       "      <td>2017-09-30</td>\n",
       "      <td>2017-09-23</td>\n",
       "      <td>4.29</td>\n",
       "      <td>22.0</td>\n",
       "      <td>MT</td>\n",
       "      <td>USD</td>\n",
       "      <td>1170.0</td>\n",
       "      <td>1230.01552</td>\n",
       "      <td>1135.00</td>\n",
       "      <td>95.01552</td>\n",
       "      <td>1160.0</td>\n",
       "      <td>53.080955</td>\n",
       "      <td>1261.000955</td>\n",
       "    </tr>\n",
       "    <tr>\n",
       "      <th>3</th>\n",
       "      <td>2017-05-15</td>\n",
       "      <td>QTN-0000010801-1</td>\n",
       "      <td>2</td>\n",
       "      <td>30009609</td>\n",
       "      <td>QUOTATION</td>\n",
       "      <td>ZHEJIANG FUTURE PETROCHEMICAL</td>\n",
       "      <td>8010001559</td>\n",
       "      <td>Distributor / Trader</td>\n",
       "      <td>Mfg-Petroleum Prod</td>\n",
       "      <td>C150Y</td>\n",
       "      <td>72000448</td>\n",
       "      <td>LC60</td>\n",
       "      <td>CFR</td>\n",
       "      <td>Hong Kong</td>\n",
       "      <td>HKHKG HONG KONG PORT</td>\n",
       "      <td>NaN</td>\n",
       "      <td>MARINE PACK</td>\n",
       "      <td>EXPORT</td>\n",
       "      <td>NONCROSSBORDER</td>\n",
       "      <td>M059</td>\n",
       "      <td>2017-05-31</td>\n",
       "      <td>2017-05-24</td>\n",
       "      <td>0.00</td>\n",
       "      <td>102.0</td>\n",
       "      <td>MT</td>\n",
       "      <td>USD</td>\n",
       "      <td>1190.0</td>\n",
       "      <td>1202.83563</td>\n",
       "      <td>1302.50</td>\n",
       "      <td>-99.66437</td>\n",
       "      <td>1310.0</td>\n",
       "      <td>78.407735</td>\n",
       "      <td>1207.002265</td>\n",
       "    </tr>\n",
       "    <tr>\n",
       "      <th>4</th>\n",
       "      <td>2018-08-06</td>\n",
       "      <td>QTN-0000018707-1</td>\n",
       "      <td>1</td>\n",
       "      <td>30016459</td>\n",
       "      <td>QUOTATION</td>\n",
       "      <td>CHONG WAH PLASTICS SDN BHD</td>\n",
       "      <td>8010000709</td>\n",
       "      <td>End Customer</td>\n",
       "      <td>Mfg-Petroleum Prod</td>\n",
       "      <td>LL0209SA</td>\n",
       "      <td>72000608</td>\n",
       "      <td>ZB60</td>\n",
       "      <td>DAP</td>\n",
       "      <td>Malaysia</td>\n",
       "      <td>MYKD01 ALOR SETAR</td>\n",
       "      <td>MYSG00 KLANG VALLEY</td>\n",
       "      <td>TRUCK PACK(Drum)</td>\n",
       "      <td>DOMESTIC</td>\n",
       "      <td>NONCROSSBORDER</td>\n",
       "      <td>M167</td>\n",
       "      <td>2018-08-31</td>\n",
       "      <td>2018-08-24</td>\n",
       "      <td>4.04</td>\n",
       "      <td>180.0</td>\n",
       "      <td>MT</td>\n",
       "      <td>USD</td>\n",
       "      <td>1190.0</td>\n",
       "      <td>1312.38099</td>\n",
       "      <td>1181.25</td>\n",
       "      <td>131.13099</td>\n",
       "      <td>1210.0</td>\n",
       "      <td>21.566372</td>\n",
       "      <td>1336.996372</td>\n",
       "    </tr>\n",
       "  </tbody>\n",
       "</table>\n",
       "</div>"
      ],
      "text/plain": [
       "  Contract Execution Date           PMT No.  Item No  Sales Contract No.  \\\n",
       "0              2017-08-04  QTN-0000012192-1        1            30010898   \n",
       "1              2017-11-22  QTN-0000013779-1        1            30012429   \n",
       "2              2017-09-11  QTN-0000012648-1        1            30011297   \n",
       "3              2017-05-15  QTN-0000010801-1        2            30009609   \n",
       "4              2018-08-06  QTN-0000018707-1        1            30016459   \n",
       "\n",
       "  Contract/Spot          Sold to Customer Name  Sold to Customer Code  \\\n",
       "0     QUOTATION             DURA-MINE SDN BHD.             8010000770   \n",
       "1     QUOTATION          CJ POLYMERS SDN. BHD.             8010000714   \n",
       "2     QUOTATION           SUMIKENG (M) SDN BHD             8010001403   \n",
       "3     QUOTATION  ZHEJIANG FUTURE PETROCHEMICAL             8010001559   \n",
       "4     QUOTATION     CHONG WAH PLASTICS SDN BHD             8010000709   \n",
       "\n",
       "          Customer Type   Customer Industry     Grade  Material Payment Term  \\\n",
       "0          End Customer  Mfg-Petroleum Prod  HD5301AA  72000544         ZB30   \n",
       "1  Distributor / Trader  Mfg-Petroleum Prod     C150Y  72000448     TT60SBLC   \n",
       "2  Distributor / Trader  Mfg-Petroleum Prod  HD5201AA  72000539         ZM60   \n",
       "3  Distributor / Trader  Mfg-Petroleum Prod     C150Y  72000448         LC60   \n",
       "4          End Customer  Mfg-Petroleum Prod  LL0209SA  72000608         ZB60   \n",
       "\n",
       "  Incoterm     Country      Destination Port           City State  \\\n",
       "0      DAP    Malaysia   MYSG00 KLANG VALLEY  MYSG00 KLANG VALLEY   \n",
       "1      CFR  Bangladesh      BDCGP CHITTAGONG                  NaN   \n",
       "2      DAP    Malaysia           MYPG04 PRAI          MYPG04 PRAI   \n",
       "3      CFR   Hong Kong  HKHKG HONG KONG PORT                  NaN   \n",
       "4      DAP    Malaysia     MYKD01 ALOR SETAR  MYSG00 KLANG VALLEY   \n",
       "\n",
       "  Shipping Condition Export/Domestic   Cross Boarder Plant       RETA  \\\n",
       "0   TRUCK PACK(Drum)        DOMESTIC  NONCROSSBORDER  M167 2017-08-08   \n",
       "1        MARINE PACK          EXPORT  NONCROSSBORDER  M059 2018-01-10   \n",
       "2   TRUCK PACK(Drum)        DOMESTIC  NONCROSSBORDER  M167 2017-09-30   \n",
       "3        MARINE PACK          EXPORT  NONCROSSBORDER  M059 2017-05-31   \n",
       "4   TRUCK PACK(Drum)        DOMESTIC  NONCROSSBORDER  M167 2018-08-31   \n",
       "\n",
       "     BL Date  EXCHANGE_RATE  QUANTITY UOM Currency  FLOOR_PRICE  \\\n",
       "0 2017-08-01           4.29      22.0  MT      USD       1070.0   \n",
       "1 2018-01-03           4.22     306.0  MT      USD       1290.0   \n",
       "2 2017-09-23           4.29      22.0  MT      USD       1170.0   \n",
       "3 2017-05-24           0.00     102.0  MT      USD       1190.0   \n",
       "4 2018-08-24           4.04     180.0  MT      USD       1190.0   \n",
       "\n",
       "   NORMALISED_INVOICE_PRICE  REFERENCE_MARKET_PRICE  Price Premium  \\\n",
       "0                1150.98423                 1086.25       64.73423   \n",
       "1                1235.58130                 1288.75      -53.16870   \n",
       "2                1230.01552                 1135.00       95.01552   \n",
       "3                1202.83563                 1302.50      -99.66437   \n",
       "4                1312.38099                 1181.25      131.13099   \n",
       "\n",
       "   PRODUCTBASEPRICE  GRADEALPHA  INVOICEPRICE  \n",
       "0            1090.0   20.000000   1177.000000  \n",
       "1            1290.0   41.669931   1279.999931  \n",
       "2            1160.0   53.080955   1261.000955  \n",
       "3            1310.0   78.407735   1207.002265  \n",
       "4            1210.0   21.566372   1336.996372  "
      ]
     },
     "execution_count": 9,
     "metadata": {},
     "output_type": "execute_result"
    }
   ],
   "source": [
    "data.head()"
   ]
  },
  {
   "cell_type": "code",
   "execution_count": 10,
   "metadata": {
    "ExecuteTime": {
     "end_time": "2021-07-27T01:04:24.745098Z",
     "start_time": "2021-07-27T01:04:24.614567Z"
    }
   },
   "outputs": [
    {
     "data": {
      "text/plain": [
       "<AxesSubplot:>"
      ]
     },
     "execution_count": 10,
     "metadata": {},
     "output_type": "execute_result"
    },
    {
     "data": {
      "image/png": "[encoded data removed]",
      "text/plain": [
       "<Figure size 432x288 with 1 Axes>"
      ]
     },
     "metadata": {
      "needs_background": "light"
     },
     "output_type": "display_data"
    }
   ],
   "source": [
    "data[data['Currency']=='USD']['Price Premium'].hist()"
   ]
  },
  {
   "cell_type": "code",
   "execution_count": 11,
   "metadata": {
    "ExecuteTime": {
     "end_time": "2021-07-27T01:04:24.901483Z",
     "start_time": "2021-07-27T01:04:24.808064Z"
    }
   },
   "outputs": [
    {
     "data": {
      "text/plain": [
       "<AxesSubplot:>"
      ]
     },
     "execution_count": 11,
     "metadata": {},
     "output_type": "execute_result"
    },
    {
     "data": {
      "image/png": "[encoded data removed]",
      "text/plain": [
       "<Figure size 432x288 with 1 Axes>"
      ]
     },
     "metadata": {
      "needs_background": "light"
     },
     "output_type": "display_data"
    }
   ],
   "source": [
    "data[data['Currency']!='USD']['Price Premium'].hist()"
   ]
  },
  {
   "cell_type": "markdown",
   "metadata": {},
   "source": [
    "<b>Remove outliers.</b>"
   ]
  },
  {
   "cell_type": "code",
   "execution_count": 12,
   "metadata": {
    "ExecuteTime": {
     "end_time": "2021-07-27T01:04:49.859565Z",
     "start_time": "2021-07-27T01:04:49.844106Z"
    }
   },
   "outputs": [
    {
     "data": {
      "text/plain": [
       "(1793, 33)"
      ]
     },
     "execution_count": 12,
     "metadata": {},
     "output_type": "execute_result"
    }
   ],
   "source": [
    "data = data[\n",
    "            (\n",
    "                (data['Price Premium']>=(data['Price Premium'].mean() - (3*data['Price Premium'].std())))\n",
    "                & (data['Price Premium']<=(data['Price Premium'].mean() + (3*data['Price Premium'].std())))\n",
    "            )\n",
    "            ]\n",
    "data.shape"
   ]
  },
  {
   "cell_type": "markdown",
   "metadata": {},
   "source": [
    "# Feature Assessment"
   ]
  },
  {
   "cell_type": "code",
   "execution_count": 13,
   "metadata": {
    "ExecuteTime": {
     "end_time": "2021-07-27T01:06:07.598585Z",
     "start_time": "2021-07-27T01:06:07.593254Z"
    }
   },
   "outputs": [],
   "source": [
    "features = ['Customer Type', 'Customer Industry', 'Grade', \n",
    "       'Country', 'Destination Port', 'City State',\n",
    "       'Shipping Condition', 'Export/Domestic', 'QUANTITY']"
   ]
  },
  {
   "cell_type": "code",
   "execution_count": 15,
   "metadata": {
    "ExecuteTime": {
     "end_time": "2021-07-27T01:06:19.459076Z",
     "start_time": "2021-07-27T01:06:19.447860Z"
    }
   },
   "outputs": [],
   "source": [
    "for col,type_ in zip(data[features].columns,data[features].dtypes):\n",
    "    \n",
    "    if str(type_)=='object' and col!=target:        \n",
    "        categorical_features.append(col)        \n",
    "    else:\n",
    "        numerical_features.append(col)\n"
   ]
  },
  {
   "cell_type": "code",
   "execution_count": 16,
   "metadata": {
    "ExecuteTime": {
     "end_time": "2021-07-27T01:06:20.535984Z",
     "start_time": "2021-07-27T01:06:20.526286Z"
    }
   },
   "outputs": [
    {
     "data": {
      "text/plain": [
       "(['Customer Type',\n",
       "  'Customer Industry',\n",
       "  'Grade',\n",
       "  'Country',\n",
       "  'Destination Port',\n",
       "  'City State',\n",
       "  'Shipping Condition',\n",
       "  'Export/Domestic'],\n",
       " ['QUANTITY'])"
      ]
     },
     "execution_count": 16,
     "metadata": {},
     "output_type": "execute_result"
    }
   ],
   "source": [
    "categorical_features, numerical_features"
   ]
  },
  {
   "cell_type": "markdown",
   "metadata": {},
   "source": [
    "## Feature Enginering"
   ]
  },
  {
   "cell_type": "markdown",
   "metadata": {},
   "source": [
    "<b>Replace all categorical values with values relative to the target variable.</b>"
   ]
  },
  {
   "cell_type": "code",
   "execution_count": 17,
   "metadata": {
    "ExecuteTime": {
     "end_time": "2021-07-27T01:07:01.057090Z",
     "start_time": "2021-07-27T01:07:01.041816Z"
    }
   },
   "outputs": [],
   "source": [
    "for categorical_feature in categorical_features:\n",
    "    \n",
    "    data[categorical_feature] = data.groupby('Customer Type')[target].transform('max')\n",
    "    "
   ]
  },
  {
   "cell_type": "markdown",
   "metadata": {
    "ExecuteTime": {
     "end_time": "2021-07-26T06:45:22.620498Z",
     "start_time": "2021-07-26T06:45:22.582053Z"
    }
   },
   "source": [
    "## Linear Model"
   ]
  },
  {
   "cell_type": "markdown",
   "metadata": {
    "ExecuteTime": {
     "end_time": "2021-07-27T01:08:43.919525Z",
     "start_time": "2021-07-27T01:08:43.913250Z"
    }
   },
   "source": [
    "<b>This will be a function. Input are: dataframe, target varible, and features.</b>"
   ]
  },
  {
   "cell_type": "code",
   "execution_count": 28,
   "metadata": {
    "ExecuteTime": {
     "end_time": "2021-07-27T01:11:19.937293Z",
     "start_time": "2021-07-27T01:11:19.916043Z"
    }
   },
   "outputs": [
    {
     "name": "stdout",
     "output_type": "stream",
     "text": [
      "                                 OLS Regression Results                                \n",
      "=======================================================================================\n",
      "Dep. Variable:                      y   R-squared (uncentered):                   0.254\n",
      "Model:                            OLS   Adj. R-squared (uncentered):              0.253\n",
      "Method:                 Least Squares   F-statistic:                              203.6\n",
      "Date:                Tue, 27 Jul 2021   Prob (F-statistic):                   1.26e-113\n",
      "Time:                        08:11:19   Log-Likelihood:                         -9520.2\n",
      "No. Observations:                1793   AIC:                                  1.905e+04\n",
      "Df Residuals:                    1790   BIC:                                  1.906e+04\n",
      "Df Model:                           3                                                  \n",
      "Covariance Type:            nonrobust                                                  \n",
      "==============================================================================\n",
      "                 coef    std err          t      P>|t|      [0.025      0.975]\n",
      "------------------------------------------------------------------------------\n",
      "x1         -5.435e+11   9.01e+11     -0.603      0.547   -2.31e+12    1.22e+12\n",
      "x2          7.859e+10    1.3e+11      0.603      0.547   -1.77e+11    3.34e+11\n",
      "x3          7.749e+10   1.29e+11      0.603      0.547   -1.75e+11     3.3e+11\n",
      "x4          7.749e+10   1.29e+11      0.603      0.547   -1.75e+11     3.3e+11\n",
      "x5          7.749e+10   1.29e+11      0.603      0.547   -1.75e+11     3.3e+11\n",
      "x6          7.749e+10   1.29e+11      0.603      0.547   -1.75e+11     3.3e+11\n",
      "x7          7.749e+10   1.29e+11      0.603      0.547   -1.75e+11     3.3e+11\n",
      "x8          7.749e+10   1.29e+11      0.603      0.547   -1.75e+11     3.3e+11\n",
      "x9            -0.0402      0.004    -10.121      0.000      -0.048      -0.032\n",
      "==============================================================================\n",
      "Omnibus:                       64.421   Durbin-Watson:                   1.868\n",
      "Prob(Omnibus):                  0.000   Jarque-Bera (JB):              125.823\n",
      "Skew:                           0.248   Prob(JB):                     4.76e-28\n",
      "Kurtosis:                       4.199   Cond. No.                     4.86e+64\n",
      "==============================================================================\n",
      "\n",
      "Notes:\n",
      "[1] R² is computed without centering (uncentered) since the model does not contain a constant.\n",
      "[2] Standard Errors assume that the covariance matrix of the errors is correctly specified.\n",
      "[3] The smallest eigenvalue is 2.65e-121. This might indicate that there are\n",
      "strong multicollinearity problems or that the design matrix is singular.\n"
     ]
    }
   ],
   "source": [
    "# lin_reg = LinearRegression()\n",
    "# lin_reg.fit(data[all_possible_features].values,data[target].values.reshape(-1, 1))\n",
    "# print(lin_reg.intercept_,lin_reg.coef_)\n",
    "# lin_reg = sm.add_constant(np.array(X_train))\n",
    "\n",
    "lin_reg = sm.OLS(np.array(data[target].values.reshape(-1, 1),dtype=float),np.array(data[features].values,dtype=float)).fit()\n",
    "print(lin_reg.summary())"
   ]
  },
  {
   "cell_type": "code",
   "execution_count": 29,
   "metadata": {
    "ExecuteTime": {
     "end_time": "2021-07-27T01:11:24.099232Z",
     "start_time": "2021-07-27T01:11:24.090166Z"
    }
   },
   "outputs": [
    {
     "name": "stderr",
     "output_type": "stream",
     "text": [
      "/home/cst/anaconda3/lib/python3.8/site-packages/sklearn/utils/validation.py:72: DataConversionWarning: A column-vector y was passed when a 1d array was expected. Please change the shape of y to (n_samples, ), for example using ravel().\n",
      "  return f(**kwargs)\n"
     ]
    },
    {
     "data": {
      "text/plain": [
       "array([2.64866766e-40, 2.64866766e-40, 2.64866766e-40, 2.64866766e-40,\n",
       "       2.64866766e-40, 2.64866766e-40, 2.64866766e-40, 2.64866766e-40,\n",
       "       8.70101332e-23])"
      ]
     },
     "execution_count": 29,
     "metadata": {},
     "output_type": "execute_result"
    }
   ],
   "source": [
    "freg = f_regression(\n",
    "                    np.array(data[features].values,dtype=float)\n",
    "                    , np.array(data[target].values.reshape(-1, 1),dtype=float)\n",
    "                    )\n",
    "p_values = freg[1]\n",
    "p_values"
   ]
  },
  {
   "cell_type": "code",
   "execution_count": 30,
   "metadata": {
    "ExecuteTime": {
     "end_time": "2021-07-27T01:11:26.172472Z",
     "start_time": "2021-07-27T01:11:26.166980Z"
    }
   },
   "outputs": [],
   "source": [
    "feature_pval = dict()\n",
    "\n",
    "for p_value, feature in zip(p_values,features):\n",
    "    \n",
    "    feature_pval[feature] = round(p_value, 3)    "
   ]
  },
  {
   "cell_type": "code",
   "execution_count": 31,
   "metadata": {
    "ExecuteTime": {
     "end_time": "2021-07-27T01:11:27.048324Z",
     "start_time": "2021-07-27T01:11:27.043053Z"
    }
   },
   "outputs": [
    {
     "data": {
      "text/plain": [
       "{'Customer Type': 0.0,\n",
       " 'Customer Industry': 0.0,\n",
       " 'Grade': 0.0,\n",
       " 'Country': 0.0,\n",
       " 'Destination Port': 0.0,\n",
       " 'City State': 0.0,\n",
       " 'Shipping Condition': 0.0,\n",
       " 'Export/Domestic': 0.0,\n",
       " 'QUANTITY': 0.0}"
      ]
     },
     "execution_count": 31,
     "metadata": {},
     "output_type": "execute_result"
    }
   ],
   "source": [
    "feature_pval"
   ]
  },
  {
   "cell_type": "markdown",
   "metadata": {},
   "source": [
    "<b>Above will a return to this specific function.</b>"
   ]
  },
  {
   "cell_type": "markdown",
   "metadata": {},
   "source": [
    "# Segmentation"
   ]
  },
  {
   "cell_type": "markdown",
   "metadata": {},
   "source": [
    "<b>There are many to do this but this exercise uses Decision Tree. The initial was to do multiple segmentation: customers segmentation along with transaction segmentation and then pair these segmentations but then the result was not too good as there limited features on customers segmentation that can be used.</b>\n",
    "\n",
    "<b>This will be a specific function. Input are:\n",
    "- Dataframe\n",
    "- Features\n",
    "- Target feature\n",
    "\n",
    "Return values, choose one of below: (can be discussed later)\n",
    "- Dataframe with labeled cluster    \n",
    "- JSON with customer code and cluster (could return duplicate values if there are more than 1 customer code for different transaction)\n",
    "</b>\n"
   ]
  },
  {
   "cell_type": "code",
   "execution_count": 33,
   "metadata": {
    "ExecuteTime": {
     "end_time": "2021-07-27T01:16:12.798509Z",
     "start_time": "2021-07-27T01:16:12.780350Z"
    }
   },
   "outputs": [
    {
     "data": {
      "text/plain": [
       "DecisionTreeRegressor(ccp_alpha=0.001, max_depth=3, min_samples_split=100,\n",
       "                      random_state=42)"
      ]
     },
     "execution_count": 33,
     "metadata": {},
     "output_type": "execute_result"
    }
   ],
   "source": [
    "clf = DecisionTreeRegressor(max_depth=max_depth, min_samples_split=min_samples_split, random_state=42, ccp_alpha=ccp_alpha)\n",
    "clf.fit(data[features],data[target])"
   ]
  },
  {
   "cell_type": "code",
   "execution_count": 37,
   "metadata": {
    "ExecuteTime": {
     "end_time": "2021-07-27T01:21:34.798334Z",
     "start_time": "2021-07-27T01:21:34.791052Z"
    }
   },
   "outputs": [
    {
     "name": "stdout",
     "output_type": "stream",
     "text": [
      "|--- Customer Type <= 197.07\n",
      "|   |--- QUANTITY <= 236.00\n",
      "|   |   |--- QUANTITY <= 155.00\n",
      "|   |   |   |--- value: [18.90]\n",
      "|   |   |--- QUANTITY >  155.00\n",
      "|   |   |   |--- value: [13.52]\n",
      "|   |--- QUANTITY >  236.00\n",
      "|   |   |--- QUANTITY <= 465.00\n",
      "|   |   |   |--- value: [3.00]\n",
      "|   |   |--- QUANTITY >  465.00\n",
      "|   |   |   |--- value: [-9.30]\n",
      "|--- Customer Type >  197.07\n",
      "|   |--- QUANTITY <= 25.38\n",
      "|   |   |--- QUANTITY <= 15.12\n",
      "|   |   |   |--- value: [98.15]\n",
      "|   |   |--- QUANTITY >  15.12\n",
      "|   |   |   |--- value: [54.33]\n",
      "|   |--- QUANTITY >  25.38\n",
      "|   |   |--- QUANTITY <= 310.00\n",
      "|   |   |   |--- value: [41.17]\n",
      "|   |   |--- QUANTITY >  310.00\n",
      "|   |   |   |--- value: [21.40]\n",
      "\n"
     ]
    }
   ],
   "source": [
    "text_representation = tree.export_text(clf, feature_names=features)\n",
    "print(text_representation)"
   ]
  },
  {
   "cell_type": "code",
   "execution_count": 38,
   "metadata": {
    "ExecuteTime": {
     "end_time": "2021-07-27T01:21:55.461304Z",
     "start_time": "2021-07-27T01:21:55.015802Z"
    }
   },
   "outputs": [
    {
     "data": {
      "image/png": "[encoded data removed]",
      "text/plain": [
       "<Figure size 1800x1440 with 1 Axes>"
      ]
     },
     "metadata": {
      "needs_background": "light"
     },
     "output_type": "display_data"
    }
   ],
   "source": [
    "fig = plt.figure(figsize=(25,20))\n",
    "_ = tree.plot_tree(clf, feature_names=features,filled=True)"
   ]
  },
  {
   "cell_type": "code",
   "execution_count": 41,
   "metadata": {
    "ExecuteTime": {
     "end_time": "2021-07-27T01:22:32.651436Z",
     "start_time": "2021-07-27T01:22:32.646868Z"
    }
   },
   "outputs": [
    {
     "name": "stdout",
     "output_type": "stream",
     "text": [
      "{0: 'if (Customer Type <= 197.069) and (QUANTITY <= 236.0) and (QUANTITY <= '\n",
      "    '155.0) then response: 18.895 | based on 550 samples',\n",
      " 1: 'if (Customer Type > 197.069) and (QUANTITY > 25.375) and (QUANTITY <= '\n",
      "    '310.0) then response: 41.173 | based on 468 samples',\n",
      " 2: 'if (Customer Type > 197.069) and (QUANTITY <= 25.375) and (QUANTITY > '\n",
      "    '15.125) then response: 54.332 | based on 211 samples',\n",
      " 3: 'if (Customer Type <= 197.069) and (QUANTITY > 236.0) and (QUANTITY <= '\n",
      "    '465.0) then response: 2.996 | based on 195 samples',\n",
      " 4: 'if (Customer Type <= 197.069) and (QUANTITY > 236.0) and (QUANTITY > '\n",
      "    '465.0) then response: -9.304 | based on 172 samples',\n",
      " 5: 'if (Customer Type <= 197.069) and (QUANTITY <= 236.0) and (QUANTITY > '\n",
      "    '155.0) then response: 13.523 | based on 132 samples',\n",
      " 6: 'if (Customer Type > 197.069) and (QUANTITY > 25.375) and (QUANTITY > '\n",
      "    '310.0) then response: 21.398 | based on 49 samples',\n",
      " 7: 'if (Customer Type > 197.069) and (QUANTITY <= 25.375) and (QUANTITY <= '\n",
      "    '15.125) then response: 98.152 | based on 16 samples'}\n"
     ]
    }
   ],
   "source": [
    "rules = get_rules(clf, features, None)\n",
    "rules_dict = {}\n",
    "for i,r in enumerate(rules):   \n",
    "    rules_dict[i] = r\n",
    "\n",
    "pprint.pprint(rules_dict)"
   ]
  },
  {
   "cell_type": "code",
   "execution_count": 42,
   "metadata": {
    "ExecuteTime": {
     "end_time": "2021-07-27T01:22:54.219420Z",
     "start_time": "2021-07-27T01:22:54.203361Z"
    }
   },
   "outputs": [
    {
     "data": {
      "text/html": [
       "<div>\n",
       "<style scoped>\n",
       "    .dataframe tbody tr th:only-of-type {\n",
       "        vertical-align: middle;\n",
       "    }\n",
       "\n",
       "    .dataframe tbody tr th {\n",
       "        vertical-align: top;\n",
       "    }\n",
       "\n",
       "    .dataframe thead th {\n",
       "        text-align: right;\n",
       "    }\n",
       "</style>\n",
       "<table border=\"1\" class=\"dataframe\">\n",
       "  <thead>\n",
       "    <tr style=\"text-align: right;\">\n",
       "      <th></th>\n",
       "      <th>0</th>\n",
       "      <th>1</th>\n",
       "      <th>2</th>\n",
       "      <th>Return</th>\n",
       "    </tr>\n",
       "  </thead>\n",
       "  <tbody>\n",
       "    <tr>\n",
       "      <th>0</th>\n",
       "      <td>Customer Type &lt;= 197.06922912597656</td>\n",
       "      <td>QUANTITY &lt;= 236.0</td>\n",
       "      <td>QUANTITY &lt;= 155.0</td>\n",
       "      <td>return 18.895034218181816</td>\n",
       "    </tr>\n",
       "    <tr>\n",
       "      <th>1</th>\n",
       "      <td>QUANTITY &gt; 155.0</td>\n",
       "      <td>None</td>\n",
       "      <td>None</td>\n",
       "      <td>return 13.522700227272718</td>\n",
       "    </tr>\n",
       "    <tr>\n",
       "      <th>2</th>\n",
       "      <td>QUANTITY &gt; 236.0</td>\n",
       "      <td>QUANTITY &lt;= 465.0</td>\n",
       "      <td>None</td>\n",
       "      <td>return 2.99643210256411</td>\n",
       "    </tr>\n",
       "    <tr>\n",
       "      <th>3</th>\n",
       "      <td>QUANTITY &gt; 465.0</td>\n",
       "      <td>None</td>\n",
       "      <td>None</td>\n",
       "      <td>return -9.304236279069762</td>\n",
       "    </tr>\n",
       "    <tr>\n",
       "      <th>4</th>\n",
       "      <td>Customer Type &gt; 197.06922912597656</td>\n",
       "      <td>QUANTITY &lt;= 25.375</td>\n",
       "      <td>QUANTITY &lt;= 15.125</td>\n",
       "      <td>return 98.15170812500006</td>\n",
       "    </tr>\n",
       "    <tr>\n",
       "      <th>5</th>\n",
       "      <td>QUANTITY &gt; 15.125</td>\n",
       "      <td>None</td>\n",
       "      <td>None</td>\n",
       "      <td>return 54.33214393364933</td>\n",
       "    </tr>\n",
       "    <tr>\n",
       "      <th>6</th>\n",
       "      <td>QUANTITY &gt; 25.375</td>\n",
       "      <td>QUANTITY &lt;= 310.0</td>\n",
       "      <td>None</td>\n",
       "      <td>return 41.172770128205144</td>\n",
       "    </tr>\n",
       "    <tr>\n",
       "      <th>7</th>\n",
       "      <td>QUANTITY &gt; 310.0</td>\n",
       "      <td>None</td>\n",
       "      <td>None</td>\n",
       "      <td>return 21.398338571428557</td>\n",
       "    </tr>\n",
       "  </tbody>\n",
       "</table>\n",
       "</div>"
      ],
      "text/plain": [
       "                                     0                   1  \\\n",
       "0  Customer Type <= 197.06922912597656   QUANTITY <= 236.0   \n",
       "1                     QUANTITY > 155.0                None   \n",
       "2                     QUANTITY > 236.0   QUANTITY <= 465.0   \n",
       "3                     QUANTITY > 465.0                None   \n",
       "4   Customer Type > 197.06922912597656  QUANTITY <= 25.375   \n",
       "5                    QUANTITY > 15.125                None   \n",
       "6                    QUANTITY > 25.375   QUANTITY <= 310.0   \n",
       "7                     QUANTITY > 310.0                None   \n",
       "\n",
       "                    2                     Return  \n",
       "0   QUANTITY <= 155.0  return 18.895034218181816  \n",
       "1                None  return 13.522700227272718  \n",
       "2                None    return 2.99643210256411  \n",
       "3                None  return -9.304236279069762  \n",
       "4  QUANTITY <= 15.125   return 98.15170812500006  \n",
       "5                None   return 54.33214393364933  \n",
       "6                None  return 41.172770128205144  \n",
       "7                None  return 21.398338571428557  "
      ]
     },
     "execution_count": 42,
     "metadata": {},
     "output_type": "execute_result"
    }
   ],
   "source": [
    "rules_df = tree_to_df(clf, features)\n",
    "rules_df"
   ]
  },
  {
   "cell_type": "code",
   "execution_count": 43,
   "metadata": {
    "ExecuteTime": {
     "end_time": "2021-07-27T01:23:09.616647Z",
     "start_time": "2021-07-27T01:23:09.605266Z"
    }
   },
   "outputs": [
    {
     "name": "stdout",
     "output_type": "stream",
     "text": [
      "def decision_tree(Customer_Type, Customer_Industry, Grade, Country, Destination_Port, City_State, Shipping_Condition, Export_Domestic, QUANTITY):\n",
      "    # DecisionTreeRegressor(ccp_alpha=0.001, max_depth=3, min_samples_split=100,\n",
      "    #                       random_state=42)\n",
      "    if Customer_Type <= 197.069:\n",
      "        if QUANTITY <= 236:\n",
      "            if QUANTITY <= 155:\n",
      "                 return [18.895034]\n",
      "            if QUANTITY > 155:\n",
      "                 return [13.522700]\n",
      "        if QUANTITY > 236:\n",
      "            if QUANTITY <= 465:\n",
      "                 return [2.996432]\n",
      "            if QUANTITY > 465:\n",
      "                 return [9.304236]\n",
      "    if Customer_Type > 197.069:\n",
      "        if QUANTITY <= 25.375:\n",
      "            if QUANTITY <= 15.125:\n",
      "                 return [98.151708]\n",
      "            if QUANTITY > 15.125:\n",
      "                 return [54.332144]\n",
      "        if QUANTITY > 25.375:\n",
      "            if QUANTITY <= 310:\n",
      "                 return [41.172770]\n",
      "            if QUANTITY > 310:\n",
      "                 return [21.398339]\n",
      "    \n",
      "\n"
     ]
    }
   ],
   "source": [
    "res = export_py_code(clf, feature_names=features, spacing=4)\n",
    "print(res)"
   ]
  },
  {
   "cell_type": "code",
   "execution_count": 53,
   "metadata": {
    "ExecuteTime": {
     "end_time": "2021-07-27T01:33:58.626333Z",
     "start_time": "2021-07-27T01:33:58.619852Z"
    }
   },
   "outputs": [
    {
     "data": {
      "text/plain": [
       "'_96512323-bbf9-4409-a4d5-e4bb8f66fdee.py'"
      ]
     },
     "execution_count": 53,
     "metadata": {},
     "output_type": "execute_result"
    }
   ],
   "source": [
    "filename = str(uuid.uuid4())\n",
    "filename = '_'+filename+'.py'\n",
    "filename"
   ]
  },
  {
   "cell_type": "code",
   "execution_count": 54,
   "metadata": {
    "ExecuteTime": {
     "end_time": "2021-07-27T01:34:07.130643Z",
     "start_time": "2021-07-27T01:34:07.124693Z"
    }
   },
   "outputs": [],
   "source": [
    "# save the string as a function using above filename\n",
    "with open(filename, 'w') as f:\n",
    "    f.write(res)    "
   ]
  },
  {
   "cell_type": "code",
   "execution_count": 69,
   "metadata": {
    "ExecuteTime": {
     "end_time": "2021-07-27T01:42:11.342088Z",
     "start_time": "2021-07-27T01:42:11.336422Z"
    }
   },
   "outputs": [
    {
     "data": {
      "text/plain": [
       "<function module.name.decision_tree(Customer_Type, Customer_Industry, Grade, Country, Destination_Port, City_State, Shipping_Condition, Export_Domestic, QUANTITY)>"
      ]
     },
     "execution_count": 69,
     "metadata": {},
     "output_type": "execute_result"
    }
   ],
   "source": [
    "import importlib.util\n",
    "spec = importlib.util.spec_from_file_location(\"module.name\", filename)\n",
    "f = importlib.util.module_from_spec(spec)\n",
    "spec.loader.exec_module(f)\n",
    "f.decision_tree"
   ]
  },
  {
   "cell_type": "code",
   "execution_count": 80,
   "metadata": {
    "ExecuteTime": {
     "end_time": "2021-07-27T01:49:39.832974Z",
     "start_time": "2021-07-27T01:49:39.830071Z"
    }
   },
   "outputs": [
    {
     "data": {
      "text/plain": [
       "[54.332144]"
      ]
     },
     "execution_count": 80,
     "metadata": {},
     "output_type": "execute_result"
    }
   ],
   "source": [
    "f.decision_tree(Customer_Type=212.72594,Customer_Industry=212.72594,Grade=212.72594,Country=212.72594,Destination_Port=212.72594,\n",
    "               City_State=212.72594, Shipping_Condition=212.72594, Export_Domestic=212.72594, QUANTITY=22.0)"
   ]
  },
  {
   "cell_type": "code",
   "execution_count": 79,
   "metadata": {
    "ExecuteTime": {
     "end_time": "2021-07-27T01:47:11.742441Z",
     "start_time": "2021-07-27T01:47:11.699891Z"
    }
   },
   "outputs": [
    {
     "data": {
      "text/html": [
       "<div>\n",
       "<style scoped>\n",
       "    .dataframe tbody tr th:only-of-type {\n",
       "        vertical-align: middle;\n",
       "    }\n",
       "\n",
       "    .dataframe tbody tr th {\n",
       "        vertical-align: top;\n",
       "    }\n",
       "\n",
       "    .dataframe thead th {\n",
       "        text-align: right;\n",
       "    }\n",
       "</style>\n",
       "<table border=\"1\" class=\"dataframe\">\n",
       "  <thead>\n",
       "    <tr style=\"text-align: right;\">\n",
       "      <th></th>\n",
       "      <th>Contract Execution Date</th>\n",
       "      <th>PMT No.</th>\n",
       "      <th>Item No</th>\n",
       "      <th>Sales Contract No.</th>\n",
       "      <th>Contract/Spot</th>\n",
       "      <th>Sold to Customer Name</th>\n",
       "      <th>Sold to Customer Code</th>\n",
       "      <th>Customer_Type</th>\n",
       "      <th>Customer_Industry</th>\n",
       "      <th>Grade</th>\n",
       "      <th>Material</th>\n",
       "      <th>Payment Term</th>\n",
       "      <th>Incoterm</th>\n",
       "      <th>Country</th>\n",
       "      <th>Destination_Port</th>\n",
       "      <th>City_State</th>\n",
       "      <th>Shipping_Condition</th>\n",
       "      <th>Export_Domestic</th>\n",
       "      <th>Cross Boarder</th>\n",
       "      <th>Plant</th>\n",
       "      <th>RETA</th>\n",
       "      <th>BL Date</th>\n",
       "      <th>EXCHANGE_RATE</th>\n",
       "      <th>QUANTITY</th>\n",
       "      <th>UOM</th>\n",
       "      <th>Currency</th>\n",
       "      <th>FLOOR_PRICE</th>\n",
       "      <th>NORMALISED_INVOICE_PRICE</th>\n",
       "      <th>REFERENCE_MARKET_PRICE</th>\n",
       "      <th>Price Premium</th>\n",
       "      <th>PRODUCTBASEPRICE</th>\n",
       "      <th>GRADEALPHA</th>\n",
       "      <th>INVOICEPRICE</th>\n",
       "    </tr>\n",
       "  </thead>\n",
       "  <tbody>\n",
       "    <tr>\n",
       "      <th>0</th>\n",
       "      <td>2017-08-04</td>\n",
       "      <td>QTN-0000012192-1</td>\n",
       "      <td>1</td>\n",
       "      <td>30010898</td>\n",
       "      <td>QUOTATION</td>\n",
       "      <td>DURA-MINE SDN BHD.</td>\n",
       "      <td>8010000770</td>\n",
       "      <td>212.72594</td>\n",
       "      <td>212.72594</td>\n",
       "      <td>212.72594</td>\n",
       "      <td>72000544</td>\n",
       "      <td>ZB30</td>\n",
       "      <td>DAP</td>\n",
       "      <td>212.72594</td>\n",
       "      <td>212.72594</td>\n",
       "      <td>212.72594</td>\n",
       "      <td>212.72594</td>\n",
       "      <td>212.72594</td>\n",
       "      <td>NONCROSSBORDER</td>\n",
       "      <td>M167</td>\n",
       "      <td>2017-08-08</td>\n",
       "      <td>2017-08-01</td>\n",
       "      <td>4.29</td>\n",
       "      <td>22.0</td>\n",
       "      <td>MT</td>\n",
       "      <td>USD</td>\n",
       "      <td>1070.0</td>\n",
       "      <td>1150.98423</td>\n",
       "      <td>1086.25</td>\n",
       "      <td>64.73423</td>\n",
       "      <td>1090.0</td>\n",
       "      <td>20.000000</td>\n",
       "      <td>1177.000000</td>\n",
       "    </tr>\n",
       "    <tr>\n",
       "      <th>1</th>\n",
       "      <td>2017-11-22</td>\n",
       "      <td>QTN-0000013779-1</td>\n",
       "      <td>1</td>\n",
       "      <td>30012429</td>\n",
       "      <td>QUOTATION</td>\n",
       "      <td>CJ POLYMERS SDN. BHD.</td>\n",
       "      <td>8010000714</td>\n",
       "      <td>181.41252</td>\n",
       "      <td>181.41252</td>\n",
       "      <td>181.41252</td>\n",
       "      <td>72000448</td>\n",
       "      <td>TT60SBLC</td>\n",
       "      <td>CFR</td>\n",
       "      <td>181.41252</td>\n",
       "      <td>181.41252</td>\n",
       "      <td>181.41252</td>\n",
       "      <td>181.41252</td>\n",
       "      <td>181.41252</td>\n",
       "      <td>NONCROSSBORDER</td>\n",
       "      <td>M059</td>\n",
       "      <td>2018-01-10</td>\n",
       "      <td>2018-01-03</td>\n",
       "      <td>4.22</td>\n",
       "      <td>306.0</td>\n",
       "      <td>MT</td>\n",
       "      <td>USD</td>\n",
       "      <td>1290.0</td>\n",
       "      <td>1235.58130</td>\n",
       "      <td>1288.75</td>\n",
       "      <td>-53.16870</td>\n",
       "      <td>1290.0</td>\n",
       "      <td>41.669931</td>\n",
       "      <td>1279.999931</td>\n",
       "    </tr>\n",
       "    <tr>\n",
       "      <th>2</th>\n",
       "      <td>2017-09-11</td>\n",
       "      <td>QTN-0000012648-1</td>\n",
       "      <td>1</td>\n",
       "      <td>30011297</td>\n",
       "      <td>QUOTATION</td>\n",
       "      <td>SUMIKENG (M) SDN BHD</td>\n",
       "      <td>8010001403</td>\n",
       "      <td>181.41252</td>\n",
       "      <td>181.41252</td>\n",
       "      <td>181.41252</td>\n",
       "      <td>72000539</td>\n",
       "      <td>ZM60</td>\n",
       "      <td>DAP</td>\n",
       "      <td>181.41252</td>\n",
       "      <td>181.41252</td>\n",
       "      <td>181.41252</td>\n",
       "      <td>181.41252</td>\n",
       "      <td>181.41252</td>\n",
       "      <td>NONCROSSBORDER</td>\n",
       "      <td>M167</td>\n",
       "      <td>2017-09-30</td>\n",
       "      <td>2017-09-23</td>\n",
       "      <td>4.29</td>\n",
       "      <td>22.0</td>\n",
       "      <td>MT</td>\n",
       "      <td>USD</td>\n",
       "      <td>1170.0</td>\n",
       "      <td>1230.01552</td>\n",
       "      <td>1135.00</td>\n",
       "      <td>95.01552</td>\n",
       "      <td>1160.0</td>\n",
       "      <td>53.080955</td>\n",
       "      <td>1261.000955</td>\n",
       "    </tr>\n",
       "    <tr>\n",
       "      <th>3</th>\n",
       "      <td>2017-05-15</td>\n",
       "      <td>QTN-0000010801-1</td>\n",
       "      <td>2</td>\n",
       "      <td>30009609</td>\n",
       "      <td>QUOTATION</td>\n",
       "      <td>ZHEJIANG FUTURE PETROCHEMICAL</td>\n",
       "      <td>8010001559</td>\n",
       "      <td>181.41252</td>\n",
       "      <td>181.41252</td>\n",
       "      <td>181.41252</td>\n",
       "      <td>72000448</td>\n",
       "      <td>LC60</td>\n",
       "      <td>CFR</td>\n",
       "      <td>181.41252</td>\n",
       "      <td>181.41252</td>\n",
       "      <td>181.41252</td>\n",
       "      <td>181.41252</td>\n",
       "      <td>181.41252</td>\n",
       "      <td>NONCROSSBORDER</td>\n",
       "      <td>M059</td>\n",
       "      <td>2017-05-31</td>\n",
       "      <td>2017-05-24</td>\n",
       "      <td>0.00</td>\n",
       "      <td>102.0</td>\n",
       "      <td>MT</td>\n",
       "      <td>USD</td>\n",
       "      <td>1190.0</td>\n",
       "      <td>1202.83563</td>\n",
       "      <td>1302.50</td>\n",
       "      <td>-99.66437</td>\n",
       "      <td>1310.0</td>\n",
       "      <td>78.407735</td>\n",
       "      <td>1207.002265</td>\n",
       "    </tr>\n",
       "    <tr>\n",
       "      <th>4</th>\n",
       "      <td>2018-08-06</td>\n",
       "      <td>QTN-0000018707-1</td>\n",
       "      <td>1</td>\n",
       "      <td>30016459</td>\n",
       "      <td>QUOTATION</td>\n",
       "      <td>CHONG WAH PLASTICS SDN BHD</td>\n",
       "      <td>8010000709</td>\n",
       "      <td>212.72594</td>\n",
       "      <td>212.72594</td>\n",
       "      <td>212.72594</td>\n",
       "      <td>72000608</td>\n",
       "      <td>ZB60</td>\n",
       "      <td>DAP</td>\n",
       "      <td>212.72594</td>\n",
       "      <td>212.72594</td>\n",
       "      <td>212.72594</td>\n",
       "      <td>212.72594</td>\n",
       "      <td>212.72594</td>\n",
       "      <td>NONCROSSBORDER</td>\n",
       "      <td>M167</td>\n",
       "      <td>2018-08-31</td>\n",
       "      <td>2018-08-24</td>\n",
       "      <td>4.04</td>\n",
       "      <td>180.0</td>\n",
       "      <td>MT</td>\n",
       "      <td>USD</td>\n",
       "      <td>1190.0</td>\n",
       "      <td>1312.38099</td>\n",
       "      <td>1181.25</td>\n",
       "      <td>131.13099</td>\n",
       "      <td>1210.0</td>\n",
       "      <td>21.566372</td>\n",
       "      <td>1336.996372</td>\n",
       "    </tr>\n",
       "    <tr>\n",
       "      <th>...</th>\n",
       "      <td>...</td>\n",
       "      <td>...</td>\n",
       "      <td>...</td>\n",
       "      <td>...</td>\n",
       "      <td>...</td>\n",
       "      <td>...</td>\n",
       "      <td>...</td>\n",
       "      <td>...</td>\n",
       "      <td>...</td>\n",
       "      <td>...</td>\n",
       "      <td>...</td>\n",
       "      <td>...</td>\n",
       "      <td>...</td>\n",
       "      <td>...</td>\n",
       "      <td>...</td>\n",
       "      <td>...</td>\n",
       "      <td>...</td>\n",
       "      <td>...</td>\n",
       "      <td>...</td>\n",
       "      <td>...</td>\n",
       "      <td>...</td>\n",
       "      <td>...</td>\n",
       "      <td>...</td>\n",
       "      <td>...</td>\n",
       "      <td>...</td>\n",
       "      <td>...</td>\n",
       "      <td>...</td>\n",
       "      <td>...</td>\n",
       "      <td>...</td>\n",
       "      <td>...</td>\n",
       "      <td>...</td>\n",
       "      <td>...</td>\n",
       "      <td>...</td>\n",
       "    </tr>\n",
       "    <tr>\n",
       "      <th>1812</th>\n",
       "      <td>2020-02-20</td>\n",
       "      <td>QTN-0000029888-1</td>\n",
       "      <td>1</td>\n",
       "      <td>30027440</td>\n",
       "      <td>QUOTATION</td>\n",
       "      <td>PT. BERLINA TBK</td>\n",
       "      <td>8010001242</td>\n",
       "      <td>212.72594</td>\n",
       "      <td>212.72594</td>\n",
       "      <td>212.72594</td>\n",
       "      <td>72000448</td>\n",
       "      <td>LC60</td>\n",
       "      <td>CFR</td>\n",
       "      <td>212.72594</td>\n",
       "      <td>212.72594</td>\n",
       "      <td>212.72594</td>\n",
       "      <td>212.72594</td>\n",
       "      <td>212.72594</td>\n",
       "      <td>NONCROSSBORDER</td>\n",
       "      <td>M169</td>\n",
       "      <td>2020-03-31</td>\n",
       "      <td>2020-03-24</td>\n",
       "      <td>4.06</td>\n",
       "      <td>17.5</td>\n",
       "      <td>MT</td>\n",
       "      <td>USD</td>\n",
       "      <td>910.0</td>\n",
       "      <td>1006.51320</td>\n",
       "      <td>951.00</td>\n",
       "      <td>55.51320</td>\n",
       "      <td>950.0</td>\n",
       "      <td>1.229771</td>\n",
       "      <td>1009.999771</td>\n",
       "    </tr>\n",
       "    <tr>\n",
       "      <th>1813</th>\n",
       "      <td>2020-03-26</td>\n",
       "      <td>QTN-0000030542-1</td>\n",
       "      <td>1</td>\n",
       "      <td>30028105</td>\n",
       "      <td>QUOTATION</td>\n",
       "      <td>TYCOPLAS SDN. BHD.</td>\n",
       "      <td>8010001493</td>\n",
       "      <td>212.72594</td>\n",
       "      <td>212.72594</td>\n",
       "      <td>212.72594</td>\n",
       "      <td>72000608</td>\n",
       "      <td>ZM60</td>\n",
       "      <td>DAP</td>\n",
       "      <td>212.72594</td>\n",
       "      <td>212.72594</td>\n",
       "      <td>212.72594</td>\n",
       "      <td>212.72594</td>\n",
       "      <td>212.72594</td>\n",
       "      <td>NONCROSSBORDER</td>\n",
       "      <td>M167</td>\n",
       "      <td>2020-03-31</td>\n",
       "      <td>2020-03-24</td>\n",
       "      <td>4.20</td>\n",
       "      <td>22.5</td>\n",
       "      <td>MT</td>\n",
       "      <td>USD</td>\n",
       "      <td>860.0</td>\n",
       "      <td>850.84511</td>\n",
       "      <td>872.50</td>\n",
       "      <td>-21.65489</td>\n",
       "      <td>880.0</td>\n",
       "      <td>22.278356</td>\n",
       "      <td>874.998356</td>\n",
       "    </tr>\n",
       "    <tr>\n",
       "      <th>1814</th>\n",
       "      <td>2020-04-08</td>\n",
       "      <td>QTN-0000030826-1</td>\n",
       "      <td>1</td>\n",
       "      <td>30028345</td>\n",
       "      <td>QUOTATION</td>\n",
       "      <td>PREMIUM PLAST CO., LTD</td>\n",
       "      <td>8010001205</td>\n",
       "      <td>181.41252</td>\n",
       "      <td>181.41252</td>\n",
       "      <td>181.41252</td>\n",
       "      <td>72000448</td>\n",
       "      <td>TT30</td>\n",
       "      <td>DDP</td>\n",
       "      <td>181.41252</td>\n",
       "      <td>181.41252</td>\n",
       "      <td>181.41252</td>\n",
       "      <td>181.41252</td>\n",
       "      <td>181.41252</td>\n",
       "      <td>NONCROSSBORDER</td>\n",
       "      <td>M169</td>\n",
       "      <td>2020-04-30</td>\n",
       "      <td>2020-04-23</td>\n",
       "      <td>32.48</td>\n",
       "      <td>402.5</td>\n",
       "      <td>MT</td>\n",
       "      <td>USD</td>\n",
       "      <td>746.0</td>\n",
       "      <td>925.20085</td>\n",
       "      <td>945.00</td>\n",
       "      <td>-19.79915</td>\n",
       "      <td>786.0</td>\n",
       "      <td>5.000000</td>\n",
       "      <td>926.000000</td>\n",
       "    </tr>\n",
       "    <tr>\n",
       "      <th>1815</th>\n",
       "      <td>2020-04-08</td>\n",
       "      <td>QTN-0000030829-1</td>\n",
       "      <td>1</td>\n",
       "      <td>30028350</td>\n",
       "      <td>QUOTATION</td>\n",
       "      <td>INTERCORDIA CO., LTD</td>\n",
       "      <td>8010000926</td>\n",
       "      <td>181.41252</td>\n",
       "      <td>181.41252</td>\n",
       "      <td>181.41252</td>\n",
       "      <td>72000448</td>\n",
       "      <td>TT45SBLC</td>\n",
       "      <td>DDP</td>\n",
       "      <td>181.41252</td>\n",
       "      <td>181.41252</td>\n",
       "      <td>181.41252</td>\n",
       "      <td>181.41252</td>\n",
       "      <td>181.41252</td>\n",
       "      <td>NONCROSSBORDER</td>\n",
       "      <td>M169</td>\n",
       "      <td>2020-04-30</td>\n",
       "      <td>2020-04-23</td>\n",
       "      <td>32.48</td>\n",
       "      <td>262.5</td>\n",
       "      <td>MT</td>\n",
       "      <td>USD</td>\n",
       "      <td>746.0</td>\n",
       "      <td>952.93955</td>\n",
       "      <td>945.00</td>\n",
       "      <td>7.93955</td>\n",
       "      <td>786.0</td>\n",
       "      <td>5.000000</td>\n",
       "      <td>955.000000</td>\n",
       "    </tr>\n",
       "    <tr>\n",
       "      <th>1816</th>\n",
       "      <td>2020-05-27</td>\n",
       "      <td>QTN-0000031583-2</td>\n",
       "      <td>1</td>\n",
       "      <td>30029165</td>\n",
       "      <td>QUOTATION</td>\n",
       "      <td>DISCOVERING PETROCHEMICAL CO., LTD.</td>\n",
       "      <td>8010006692</td>\n",
       "      <td>181.41252</td>\n",
       "      <td>181.41252</td>\n",
       "      <td>181.41252</td>\n",
       "      <td>72000544</td>\n",
       "      <td>TT60SBLC</td>\n",
       "      <td>CFR</td>\n",
       "      <td>181.41252</td>\n",
       "      <td>181.41252</td>\n",
       "      <td>181.41252</td>\n",
       "      <td>181.41252</td>\n",
       "      <td>181.41252</td>\n",
       "      <td>NONCROSSBORDER</td>\n",
       "      <td>M167</td>\n",
       "      <td>2020-05-31</td>\n",
       "      <td>2020-05-24</td>\n",
       "      <td>4.34</td>\n",
       "      <td>262.5</td>\n",
       "      <td>MT</td>\n",
       "      <td>USD</td>\n",
       "      <td>650.0</td>\n",
       "      <td>747.41417</td>\n",
       "      <td>708.75</td>\n",
       "      <td>38.66417</td>\n",
       "      <td>690.0</td>\n",
       "      <td>0.893219</td>\n",
       "      <td>750.003219</td>\n",
       "    </tr>\n",
       "  </tbody>\n",
       "</table>\n",
       "<p>1793 rows × 33 columns</p>\n",
       "</div>"
      ],
      "text/plain": [
       "     Contract Execution Date           PMT No.  Item No  Sales Contract No.  \\\n",
       "0                 2017-08-04  QTN-0000012192-1        1            30010898   \n",
       "1                 2017-11-22  QTN-0000013779-1        1            30012429   \n",
       "2                 2017-09-11  QTN-0000012648-1        1            30011297   \n",
       "3                 2017-05-15  QTN-0000010801-1        2            30009609   \n",
       "4                 2018-08-06  QTN-0000018707-1        1            30016459   \n",
       "...                      ...               ...      ...                 ...   \n",
       "1812              2020-02-20  QTN-0000029888-1        1            30027440   \n",
       "1813              2020-03-26  QTN-0000030542-1        1            30028105   \n",
       "1814              2020-04-08  QTN-0000030826-1        1            30028345   \n",
       "1815              2020-04-08  QTN-0000030829-1        1            30028350   \n",
       "1816              2020-05-27  QTN-0000031583-2        1            30029165   \n",
       "\n",
       "     Contract/Spot                Sold to Customer Name  \\\n",
       "0        QUOTATION                   DURA-MINE SDN BHD.   \n",
       "1        QUOTATION                CJ POLYMERS SDN. BHD.   \n",
       "2        QUOTATION                 SUMIKENG (M) SDN BHD   \n",
       "3        QUOTATION        ZHEJIANG FUTURE PETROCHEMICAL   \n",
       "4        QUOTATION           CHONG WAH PLASTICS SDN BHD   \n",
       "...            ...                                  ...   \n",
       "1812     QUOTATION                      PT. BERLINA TBK   \n",
       "1813     QUOTATION                   TYCOPLAS SDN. BHD.   \n",
       "1814     QUOTATION               PREMIUM PLAST CO., LTD   \n",
       "1815     QUOTATION                 INTERCORDIA CO., LTD   \n",
       "1816     QUOTATION  DISCOVERING PETROCHEMICAL CO., LTD.   \n",
       "\n",
       "      Sold to Customer Code  Customer_Type  Customer_Industry      Grade  \\\n",
       "0                8010000770      212.72594          212.72594  212.72594   \n",
       "1                8010000714      181.41252          181.41252  181.41252   \n",
       "2                8010001403      181.41252          181.41252  181.41252   \n",
       "3                8010001559      181.41252          181.41252  181.41252   \n",
       "4                8010000709      212.72594          212.72594  212.72594   \n",
       "...                     ...            ...                ...        ...   \n",
       "1812             8010001242      212.72594          212.72594  212.72594   \n",
       "1813             8010001493      212.72594          212.72594  212.72594   \n",
       "1814             8010001205      181.41252          181.41252  181.41252   \n",
       "1815             8010000926      181.41252          181.41252  181.41252   \n",
       "1816             8010006692      181.41252          181.41252  181.41252   \n",
       "\n",
       "      Material Payment Term Incoterm    Country  Destination_Port  City_State  \\\n",
       "0     72000544         ZB30      DAP  212.72594         212.72594   212.72594   \n",
       "1     72000448     TT60SBLC      CFR  181.41252         181.41252   181.41252   \n",
       "2     72000539         ZM60      DAP  181.41252         181.41252   181.41252   \n",
       "3     72000448         LC60      CFR  181.41252         181.41252   181.41252   \n",
       "4     72000608         ZB60      DAP  212.72594         212.72594   212.72594   \n",
       "...        ...          ...      ...        ...               ...         ...   \n",
       "1812  72000448         LC60      CFR  212.72594         212.72594   212.72594   \n",
       "1813  72000608         ZM60      DAP  212.72594         212.72594   212.72594   \n",
       "1814  72000448         TT30      DDP  181.41252         181.41252   181.41252   \n",
       "1815  72000448     TT45SBLC      DDP  181.41252         181.41252   181.41252   \n",
       "1816  72000544     TT60SBLC      CFR  181.41252         181.41252   181.41252   \n",
       "\n",
       "      Shipping_Condition  Export_Domestic   Cross Boarder Plant       RETA  \\\n",
       "0              212.72594        212.72594  NONCROSSBORDER  M167 2017-08-08   \n",
       "1              181.41252        181.41252  NONCROSSBORDER  M059 2018-01-10   \n",
       "2              181.41252        181.41252  NONCROSSBORDER  M167 2017-09-30   \n",
       "3              181.41252        181.41252  NONCROSSBORDER  M059 2017-05-31   \n",
       "4              212.72594        212.72594  NONCROSSBORDER  M167 2018-08-31   \n",
       "...                  ...              ...             ...   ...        ...   \n",
       "1812           212.72594        212.72594  NONCROSSBORDER  M169 2020-03-31   \n",
       "1813           212.72594        212.72594  NONCROSSBORDER  M167 2020-03-31   \n",
       "1814           181.41252        181.41252  NONCROSSBORDER  M169 2020-04-30   \n",
       "1815           181.41252        181.41252  NONCROSSBORDER  M169 2020-04-30   \n",
       "1816           181.41252        181.41252  NONCROSSBORDER  M167 2020-05-31   \n",
       "\n",
       "        BL Date  EXCHANGE_RATE  QUANTITY UOM Currency  FLOOR_PRICE  \\\n",
       "0    2017-08-01           4.29      22.0  MT      USD       1070.0   \n",
       "1    2018-01-03           4.22     306.0  MT      USD       1290.0   \n",
       "2    2017-09-23           4.29      22.0  MT      USD       1170.0   \n",
       "3    2017-05-24           0.00     102.0  MT      USD       1190.0   \n",
       "4    2018-08-24           4.04     180.0  MT      USD       1190.0   \n",
       "...         ...            ...       ...  ..      ...          ...   \n",
       "1812 2020-03-24           4.06      17.5  MT      USD        910.0   \n",
       "1813 2020-03-24           4.20      22.5  MT      USD        860.0   \n",
       "1814 2020-04-23          32.48     402.5  MT      USD        746.0   \n",
       "1815 2020-04-23          32.48     262.5  MT      USD        746.0   \n",
       "1816 2020-05-24           4.34     262.5  MT      USD        650.0   \n",
       "\n",
       "      NORMALISED_INVOICE_PRICE  REFERENCE_MARKET_PRICE  Price Premium  \\\n",
       "0                   1150.98423                 1086.25       64.73423   \n",
       "1                   1235.58130                 1288.75      -53.16870   \n",
       "2                   1230.01552                 1135.00       95.01552   \n",
       "3                   1202.83563                 1302.50      -99.66437   \n",
       "4                   1312.38099                 1181.25      131.13099   \n",
       "...                        ...                     ...            ...   \n",
       "1812                1006.51320                  951.00       55.51320   \n",
       "1813                 850.84511                  872.50      -21.65489   \n",
       "1814                 925.20085                  945.00      -19.79915   \n",
       "1815                 952.93955                  945.00        7.93955   \n",
       "1816                 747.41417                  708.75       38.66417   \n",
       "\n",
       "      PRODUCTBASEPRICE  GRADEALPHA  INVOICEPRICE  \n",
       "0               1090.0   20.000000   1177.000000  \n",
       "1               1290.0   41.669931   1279.999931  \n",
       "2               1160.0   53.080955   1261.000955  \n",
       "3               1310.0   78.407735   1207.002265  \n",
       "4               1210.0   21.566372   1336.996372  \n",
       "...                ...         ...           ...  \n",
       "1812             950.0    1.229771   1009.999771  \n",
       "1813             880.0   22.278356    874.998356  \n",
       "1814             786.0    5.000000    926.000000  \n",
       "1815             786.0    5.000000    955.000000  \n",
       "1816             690.0    0.893219    750.003219  \n",
       "\n",
       "[1793 rows x 33 columns]"
      ]
     },
     "execution_count": 79,
     "metadata": {},
     "output_type": "execute_result"
    }
   ],
   "source": [
    "data"
   ]
  },
  {
   "cell_type": "code",
   "execution_count": 70,
   "metadata": {
    "ExecuteTime": {
     "end_time": "2021-07-27T01:42:44.794408Z",
     "start_time": "2021-07-27T01:42:44.787190Z"
    }
   },
   "outputs": [
    {
     "data": {
      "text/plain": [
       "['Customer_Type',\n",
       " 'Customer_Industry',\n",
       " 'Grade',\n",
       " 'Country',\n",
       " 'Destination_Port',\n",
       " 'City_State',\n",
       " 'Shipping_Condition',\n",
       " 'Export_Domestic',\n",
       " 'QUANTITY']"
      ]
     },
     "execution_count": 70,
     "metadata": {},
     "output_type": "execute_result"
    }
   ],
   "source": [
    "get_func_args(f.decision_tree)"
   ]
  },
  {
   "cell_type": "code",
   "execution_count": 72,
   "metadata": {
    "ExecuteTime": {
     "end_time": "2021-07-27T01:43:21.703080Z",
     "start_time": "2021-07-27T01:43:21.690179Z"
    }
   },
   "outputs": [
    {
     "name": "stdout",
     "output_type": "stream",
     "text": [
      "Customer Type Customer_Type\n",
      "Customer Industry Customer_Industry\n",
      "Grade Grade\n",
      "Country Country\n",
      "Destination Port Destination_Port\n",
      "City State City_State\n",
      "Shipping Condition Shipping_Condition\n",
      "Export/Domestic Export_Domestic\n",
      "QUANTITY QUANTITY\n"
     ]
    }
   ],
   "source": [
    "for a,b in zip(features,get_func_args(f.decision_tree)): \n",
    "    print(a,b)\n",
    "    data.rename(columns={a:b},inplace=True)"
   ]
  },
  {
   "cell_type": "code",
   "execution_count": 81,
   "metadata": {
    "ExecuteTime": {
     "end_time": "2021-07-27T01:50:09.323853Z",
     "start_time": "2021-07-27T01:50:09.316075Z"
    }
   },
   "outputs": [
    {
     "data": {
      "text/plain": [
       "\"f.decision_tree(Customer_Type=x['Customer_Type'],Customer_Industry=x['Customer_Industry'],Grade=x['Grade'],Country=x['Country'],Destination_Port=x['Destination_Port'],City_State=x['City_State'],Shipping_Condition=x['Shipping_Condition'],Export_Domestic=x['Export_Domestic'],QUANTITY=x['QUANTITY'])\""
      ]
     },
     "execution_count": 81,
     "metadata": {},
     "output_type": "execute_result"
    }
   ],
   "source": [
    "text_function = 'f.'+str(f.decision_tree.__name__)+'('+','.join([item+\"=x['\"+item+\"']\" for item in get_func_args(f.decision_tree)])+')'\n",
    "text_function"
   ]
  },
  {
   "cell_type": "code",
   "execution_count": 82,
   "metadata": {
    "ExecuteTime": {
     "end_time": "2021-07-27T01:50:10.074146Z",
     "start_time": "2021-07-27T01:50:09.931280Z"
    }
   },
   "outputs": [
    {
     "data": {
      "text/plain": [
       "1    0.306748\n",
       "4    0.261015\n",
       "5    0.117680\n",
       "2    0.108756\n",
       "6    0.095929\n",
       "0    0.073620\n",
       "3    0.027328\n",
       "7    0.008924\n",
       "Name: segment, dtype: float64"
      ]
     },
     "execution_count": 82,
     "metadata": {},
     "output_type": "execute_result"
    }
   ],
   "source": [
    "data['node'] = data.apply(lambda x: eval(text_function), axis=1) \n",
    "data['node'] = data['node'].apply(lambda x:str(x).replace('[','').replace(']',''))\n",
    "\n",
    "le = LabelEncoder()\n",
    "data['segment'] = le.fit_transform(data['node'])\n",
    "data['segment'].value_counts(normalize=True)"
   ]
  },
  {
   "cell_type": "markdown",
   "metadata": {},
   "source": [
    "<b>It is better to return the complete dataframe.</b>"
   ]
  },
  {
   "cell_type": "markdown",
   "metadata": {},
   "source": [
    "# Price Segmentation"
   ]
  },
  {
   "cell_type": "markdown",
   "metadata": {},
   "source": [
    "## Without Power Price Index"
   ]
  },
  {
   "cell_type": "markdown",
   "metadata": {
    "ExecuteTime": {
     "end_time": "2021-07-27T01:59:37.582680Z",
     "start_time": "2021-07-27T01:59:37.580123Z"
    }
   },
   "source": [
    "<b>Input:\n",
    "- Dataframe\n",
    "- Target feature\n",
    "- Cut off in the form of JSON like below\n",
    "- Signal if the JSON is Power Price Index or not\n",
    "</b>"
   ]
  },
  {
   "cell_type": "code",
   "execution_count": 111,
   "metadata": {
    "ExecuteTime": {
     "end_time": "2021-07-27T02:22:53.414944Z",
     "start_time": "2021-07-27T02:22:53.408627Z"
    }
   },
   "outputs": [
    {
     "name": "stdout",
     "output_type": "stream",
     "text": [
      "{'floor': 0.1, 'target': 0.5, 'offer': 0.9}\n"
     ]
    }
   ],
   "source": [
    "cut_off = dict()\n",
    "cut_off['floor'] = 0.1\n",
    "cut_off['target'] = 0.5\n",
    "cut_off['offer'] = 0.9\n",
    "print(cut_off)"
   ]
  },
  {
   "cell_type": "code",
   "execution_count": 112,
   "metadata": {
    "ExecuteTime": {
     "end_time": "2021-07-27T02:22:53.600911Z",
     "start_time": "2021-07-27T02:22:53.570321Z"
    }
   },
   "outputs": [
    {
     "data": {
      "text/html": [
       "<div>\n",
       "<style scoped>\n",
       "    .dataframe tbody tr th:only-of-type {\n",
       "        vertical-align: middle;\n",
       "    }\n",
       "\n",
       "    .dataframe tbody tr th {\n",
       "        vertical-align: top;\n",
       "    }\n",
       "\n",
       "    .dataframe thead th {\n",
       "        text-align: right;\n",
       "    }\n",
       "</style>\n",
       "<table border=\"1\" class=\"dataframe\">\n",
       "  <thead>\n",
       "    <tr style=\"text-align: right;\">\n",
       "      <th></th>\n",
       "      <th>Contract Execution Date</th>\n",
       "      <th>PMT No.</th>\n",
       "      <th>Item No</th>\n",
       "      <th>Sales Contract No.</th>\n",
       "      <th>Contract/Spot</th>\n",
       "      <th>Sold to Customer Name</th>\n",
       "      <th>Sold to Customer Code</th>\n",
       "      <th>Customer_Type</th>\n",
       "      <th>Customer_Industry</th>\n",
       "      <th>Grade</th>\n",
       "      <th>Material</th>\n",
       "      <th>Payment Term</th>\n",
       "      <th>Incoterm</th>\n",
       "      <th>Country</th>\n",
       "      <th>Destination_Port</th>\n",
       "      <th>City_State</th>\n",
       "      <th>Shipping_Condition</th>\n",
       "      <th>Export_Domestic</th>\n",
       "      <th>Cross Boarder</th>\n",
       "      <th>Plant</th>\n",
       "      <th>RETA</th>\n",
       "      <th>BL Date</th>\n",
       "      <th>EXCHANGE_RATE</th>\n",
       "      <th>QUANTITY</th>\n",
       "      <th>UOM</th>\n",
       "      <th>Currency</th>\n",
       "      <th>FLOOR_PRICE</th>\n",
       "      <th>NORMALISED_INVOICE_PRICE</th>\n",
       "      <th>REFERENCE_MARKET_PRICE</th>\n",
       "      <th>Price Premium</th>\n",
       "      <th>PRODUCTBASEPRICE</th>\n",
       "      <th>GRADEALPHA</th>\n",
       "      <th>INVOICEPRICE</th>\n",
       "      <th>node</th>\n",
       "      <th>segment</th>\n",
       "    </tr>\n",
       "  </thead>\n",
       "  <tbody>\n",
       "    <tr>\n",
       "      <th>0</th>\n",
       "      <td>2017-08-04</td>\n",
       "      <td>QTN-0000012192-1</td>\n",
       "      <td>1</td>\n",
       "      <td>30010898</td>\n",
       "      <td>QUOTATION</td>\n",
       "      <td>DURA-MINE SDN BHD.</td>\n",
       "      <td>8010000770</td>\n",
       "      <td>212.72594</td>\n",
       "      <td>212.72594</td>\n",
       "      <td>212.72594</td>\n",
       "      <td>72000544</td>\n",
       "      <td>ZB30</td>\n",
       "      <td>DAP</td>\n",
       "      <td>212.72594</td>\n",
       "      <td>212.72594</td>\n",
       "      <td>212.72594</td>\n",
       "      <td>212.72594</td>\n",
       "      <td>212.72594</td>\n",
       "      <td>NONCROSSBORDER</td>\n",
       "      <td>M167</td>\n",
       "      <td>2017-08-08</td>\n",
       "      <td>2017-08-01</td>\n",
       "      <td>4.29</td>\n",
       "      <td>22.0</td>\n",
       "      <td>MT</td>\n",
       "      <td>USD</td>\n",
       "      <td>1070.0</td>\n",
       "      <td>1150.98423</td>\n",
       "      <td>1086.25</td>\n",
       "      <td>64.73423</td>\n",
       "      <td>1090.0</td>\n",
       "      <td>20.000000</td>\n",
       "      <td>1177.000000</td>\n",
       "      <td>54.332144</td>\n",
       "      <td>5</td>\n",
       "    </tr>\n",
       "    <tr>\n",
       "      <th>1</th>\n",
       "      <td>2017-11-22</td>\n",
       "      <td>QTN-0000013779-1</td>\n",
       "      <td>1</td>\n",
       "      <td>30012429</td>\n",
       "      <td>QUOTATION</td>\n",
       "      <td>CJ POLYMERS SDN. BHD.</td>\n",
       "      <td>8010000714</td>\n",
       "      <td>181.41252</td>\n",
       "      <td>181.41252</td>\n",
       "      <td>181.41252</td>\n",
       "      <td>72000448</td>\n",
       "      <td>TT60SBLC</td>\n",
       "      <td>CFR</td>\n",
       "      <td>181.41252</td>\n",
       "      <td>181.41252</td>\n",
       "      <td>181.41252</td>\n",
       "      <td>181.41252</td>\n",
       "      <td>181.41252</td>\n",
       "      <td>NONCROSSBORDER</td>\n",
       "      <td>M059</td>\n",
       "      <td>2018-01-10</td>\n",
       "      <td>2018-01-03</td>\n",
       "      <td>4.22</td>\n",
       "      <td>306.0</td>\n",
       "      <td>MT</td>\n",
       "      <td>USD</td>\n",
       "      <td>1290.0</td>\n",
       "      <td>1235.58130</td>\n",
       "      <td>1288.75</td>\n",
       "      <td>-53.16870</td>\n",
       "      <td>1290.0</td>\n",
       "      <td>41.669931</td>\n",
       "      <td>1279.999931</td>\n",
       "      <td>2.996432</td>\n",
       "      <td>2</td>\n",
       "    </tr>\n",
       "    <tr>\n",
       "      <th>2</th>\n",
       "      <td>2017-09-11</td>\n",
       "      <td>QTN-0000012648-1</td>\n",
       "      <td>1</td>\n",
       "      <td>30011297</td>\n",
       "      <td>QUOTATION</td>\n",
       "      <td>SUMIKENG (M) SDN BHD</td>\n",
       "      <td>8010001403</td>\n",
       "      <td>181.41252</td>\n",
       "      <td>181.41252</td>\n",
       "      <td>181.41252</td>\n",
       "      <td>72000539</td>\n",
       "      <td>ZM60</td>\n",
       "      <td>DAP</td>\n",
       "      <td>181.41252</td>\n",
       "      <td>181.41252</td>\n",
       "      <td>181.41252</td>\n",
       "      <td>181.41252</td>\n",
       "      <td>181.41252</td>\n",
       "      <td>NONCROSSBORDER</td>\n",
       "      <td>M167</td>\n",
       "      <td>2017-09-30</td>\n",
       "      <td>2017-09-23</td>\n",
       "      <td>4.29</td>\n",
       "      <td>22.0</td>\n",
       "      <td>MT</td>\n",
       "      <td>USD</td>\n",
       "      <td>1170.0</td>\n",
       "      <td>1230.01552</td>\n",
       "      <td>1135.00</td>\n",
       "      <td>95.01552</td>\n",
       "      <td>1160.0</td>\n",
       "      <td>53.080955</td>\n",
       "      <td>1261.000955</td>\n",
       "      <td>18.895034</td>\n",
       "      <td>1</td>\n",
       "    </tr>\n",
       "    <tr>\n",
       "      <th>3</th>\n",
       "      <td>2017-05-15</td>\n",
       "      <td>QTN-0000010801-1</td>\n",
       "      <td>2</td>\n",
       "      <td>30009609</td>\n",
       "      <td>QUOTATION</td>\n",
       "      <td>ZHEJIANG FUTURE PETROCHEMICAL</td>\n",
       "      <td>8010001559</td>\n",
       "      <td>181.41252</td>\n",
       "      <td>181.41252</td>\n",
       "      <td>181.41252</td>\n",
       "      <td>72000448</td>\n",
       "      <td>LC60</td>\n",
       "      <td>CFR</td>\n",
       "      <td>181.41252</td>\n",
       "      <td>181.41252</td>\n",
       "      <td>181.41252</td>\n",
       "      <td>181.41252</td>\n",
       "      <td>181.41252</td>\n",
       "      <td>NONCROSSBORDER</td>\n",
       "      <td>M059</td>\n",
       "      <td>2017-05-31</td>\n",
       "      <td>2017-05-24</td>\n",
       "      <td>0.00</td>\n",
       "      <td>102.0</td>\n",
       "      <td>MT</td>\n",
       "      <td>USD</td>\n",
       "      <td>1190.0</td>\n",
       "      <td>1202.83563</td>\n",
       "      <td>1302.50</td>\n",
       "      <td>-99.66437</td>\n",
       "      <td>1310.0</td>\n",
       "      <td>78.407735</td>\n",
       "      <td>1207.002265</td>\n",
       "      <td>18.895034</td>\n",
       "      <td>1</td>\n",
       "    </tr>\n",
       "    <tr>\n",
       "      <th>4</th>\n",
       "      <td>2018-08-06</td>\n",
       "      <td>QTN-0000018707-1</td>\n",
       "      <td>1</td>\n",
       "      <td>30016459</td>\n",
       "      <td>QUOTATION</td>\n",
       "      <td>CHONG WAH PLASTICS SDN BHD</td>\n",
       "      <td>8010000709</td>\n",
       "      <td>212.72594</td>\n",
       "      <td>212.72594</td>\n",
       "      <td>212.72594</td>\n",
       "      <td>72000608</td>\n",
       "      <td>ZB60</td>\n",
       "      <td>DAP</td>\n",
       "      <td>212.72594</td>\n",
       "      <td>212.72594</td>\n",
       "      <td>212.72594</td>\n",
       "      <td>212.72594</td>\n",
       "      <td>212.72594</td>\n",
       "      <td>NONCROSSBORDER</td>\n",
       "      <td>M167</td>\n",
       "      <td>2018-08-31</td>\n",
       "      <td>2018-08-24</td>\n",
       "      <td>4.04</td>\n",
       "      <td>180.0</td>\n",
       "      <td>MT</td>\n",
       "      <td>USD</td>\n",
       "      <td>1190.0</td>\n",
       "      <td>1312.38099</td>\n",
       "      <td>1181.25</td>\n",
       "      <td>131.13099</td>\n",
       "      <td>1210.0</td>\n",
       "      <td>21.566372</td>\n",
       "      <td>1336.996372</td>\n",
       "      <td>41.17277</td>\n",
       "      <td>4</td>\n",
       "    </tr>\n",
       "    <tr>\n",
       "      <th>...</th>\n",
       "      <td>...</td>\n",
       "      <td>...</td>\n",
       "      <td>...</td>\n",
       "      <td>...</td>\n",
       "      <td>...</td>\n",
       "      <td>...</td>\n",
       "      <td>...</td>\n",
       "      <td>...</td>\n",
       "      <td>...</td>\n",
       "      <td>...</td>\n",
       "      <td>...</td>\n",
       "      <td>...</td>\n",
       "      <td>...</td>\n",
       "      <td>...</td>\n",
       "      <td>...</td>\n",
       "      <td>...</td>\n",
       "      <td>...</td>\n",
       "      <td>...</td>\n",
       "      <td>...</td>\n",
       "      <td>...</td>\n",
       "      <td>...</td>\n",
       "      <td>...</td>\n",
       "      <td>...</td>\n",
       "      <td>...</td>\n",
       "      <td>...</td>\n",
       "      <td>...</td>\n",
       "      <td>...</td>\n",
       "      <td>...</td>\n",
       "      <td>...</td>\n",
       "      <td>...</td>\n",
       "      <td>...</td>\n",
       "      <td>...</td>\n",
       "      <td>...</td>\n",
       "      <td>...</td>\n",
       "      <td>...</td>\n",
       "    </tr>\n",
       "    <tr>\n",
       "      <th>1812</th>\n",
       "      <td>2020-02-20</td>\n",
       "      <td>QTN-0000029888-1</td>\n",
       "      <td>1</td>\n",
       "      <td>30027440</td>\n",
       "      <td>QUOTATION</td>\n",
       "      <td>PT. BERLINA TBK</td>\n",
       "      <td>8010001242</td>\n",
       "      <td>212.72594</td>\n",
       "      <td>212.72594</td>\n",
       "      <td>212.72594</td>\n",
       "      <td>72000448</td>\n",
       "      <td>LC60</td>\n",
       "      <td>CFR</td>\n",
       "      <td>212.72594</td>\n",
       "      <td>212.72594</td>\n",
       "      <td>212.72594</td>\n",
       "      <td>212.72594</td>\n",
       "      <td>212.72594</td>\n",
       "      <td>NONCROSSBORDER</td>\n",
       "      <td>M169</td>\n",
       "      <td>2020-03-31</td>\n",
       "      <td>2020-03-24</td>\n",
       "      <td>4.06</td>\n",
       "      <td>17.5</td>\n",
       "      <td>MT</td>\n",
       "      <td>USD</td>\n",
       "      <td>910.0</td>\n",
       "      <td>1006.51320</td>\n",
       "      <td>951.00</td>\n",
       "      <td>55.51320</td>\n",
       "      <td>950.0</td>\n",
       "      <td>1.229771</td>\n",
       "      <td>1009.999771</td>\n",
       "      <td>54.332144</td>\n",
       "      <td>5</td>\n",
       "    </tr>\n",
       "    <tr>\n",
       "      <th>1813</th>\n",
       "      <td>2020-03-26</td>\n",
       "      <td>QTN-0000030542-1</td>\n",
       "      <td>1</td>\n",
       "      <td>30028105</td>\n",
       "      <td>QUOTATION</td>\n",
       "      <td>TYCOPLAS SDN. BHD.</td>\n",
       "      <td>8010001493</td>\n",
       "      <td>212.72594</td>\n",
       "      <td>212.72594</td>\n",
       "      <td>212.72594</td>\n",
       "      <td>72000608</td>\n",
       "      <td>ZM60</td>\n",
       "      <td>DAP</td>\n",
       "      <td>212.72594</td>\n",
       "      <td>212.72594</td>\n",
       "      <td>212.72594</td>\n",
       "      <td>212.72594</td>\n",
       "      <td>212.72594</td>\n",
       "      <td>NONCROSSBORDER</td>\n",
       "      <td>M167</td>\n",
       "      <td>2020-03-31</td>\n",
       "      <td>2020-03-24</td>\n",
       "      <td>4.20</td>\n",
       "      <td>22.5</td>\n",
       "      <td>MT</td>\n",
       "      <td>USD</td>\n",
       "      <td>860.0</td>\n",
       "      <td>850.84511</td>\n",
       "      <td>872.50</td>\n",
       "      <td>-21.65489</td>\n",
       "      <td>880.0</td>\n",
       "      <td>22.278356</td>\n",
       "      <td>874.998356</td>\n",
       "      <td>54.332144</td>\n",
       "      <td>5</td>\n",
       "    </tr>\n",
       "    <tr>\n",
       "      <th>1814</th>\n",
       "      <td>2020-04-08</td>\n",
       "      <td>QTN-0000030826-1</td>\n",
       "      <td>1</td>\n",
       "      <td>30028345</td>\n",
       "      <td>QUOTATION</td>\n",
       "      <td>PREMIUM PLAST CO., LTD</td>\n",
       "      <td>8010001205</td>\n",
       "      <td>181.41252</td>\n",
       "      <td>181.41252</td>\n",
       "      <td>181.41252</td>\n",
       "      <td>72000448</td>\n",
       "      <td>TT30</td>\n",
       "      <td>DDP</td>\n",
       "      <td>181.41252</td>\n",
       "      <td>181.41252</td>\n",
       "      <td>181.41252</td>\n",
       "      <td>181.41252</td>\n",
       "      <td>181.41252</td>\n",
       "      <td>NONCROSSBORDER</td>\n",
       "      <td>M169</td>\n",
       "      <td>2020-04-30</td>\n",
       "      <td>2020-04-23</td>\n",
       "      <td>32.48</td>\n",
       "      <td>402.5</td>\n",
       "      <td>MT</td>\n",
       "      <td>USD</td>\n",
       "      <td>746.0</td>\n",
       "      <td>925.20085</td>\n",
       "      <td>945.00</td>\n",
       "      <td>-19.79915</td>\n",
       "      <td>786.0</td>\n",
       "      <td>5.000000</td>\n",
       "      <td>926.000000</td>\n",
       "      <td>2.996432</td>\n",
       "      <td>2</td>\n",
       "    </tr>\n",
       "    <tr>\n",
       "      <th>1815</th>\n",
       "      <td>2020-04-08</td>\n",
       "      <td>QTN-0000030829-1</td>\n",
       "      <td>1</td>\n",
       "      <td>30028350</td>\n",
       "      <td>QUOTATION</td>\n",
       "      <td>INTERCORDIA CO., LTD</td>\n",
       "      <td>8010000926</td>\n",
       "      <td>181.41252</td>\n",
       "      <td>181.41252</td>\n",
       "      <td>181.41252</td>\n",
       "      <td>72000448</td>\n",
       "      <td>TT45SBLC</td>\n",
       "      <td>DDP</td>\n",
       "      <td>181.41252</td>\n",
       "      <td>181.41252</td>\n",
       "      <td>181.41252</td>\n",
       "      <td>181.41252</td>\n",
       "      <td>181.41252</td>\n",
       "      <td>NONCROSSBORDER</td>\n",
       "      <td>M169</td>\n",
       "      <td>2020-04-30</td>\n",
       "      <td>2020-04-23</td>\n",
       "      <td>32.48</td>\n",
       "      <td>262.5</td>\n",
       "      <td>MT</td>\n",
       "      <td>USD</td>\n",
       "      <td>746.0</td>\n",
       "      <td>952.93955</td>\n",
       "      <td>945.00</td>\n",
       "      <td>7.93955</td>\n",
       "      <td>786.0</td>\n",
       "      <td>5.000000</td>\n",
       "      <td>955.000000</td>\n",
       "      <td>2.996432</td>\n",
       "      <td>2</td>\n",
       "    </tr>\n",
       "    <tr>\n",
       "      <th>1816</th>\n",
       "      <td>2020-05-27</td>\n",
       "      <td>QTN-0000031583-2</td>\n",
       "      <td>1</td>\n",
       "      <td>30029165</td>\n",
       "      <td>QUOTATION</td>\n",
       "      <td>DISCOVERING PETROCHEMICAL CO., LTD.</td>\n",
       "      <td>8010006692</td>\n",
       "      <td>181.41252</td>\n",
       "      <td>181.41252</td>\n",
       "      <td>181.41252</td>\n",
       "      <td>72000544</td>\n",
       "      <td>TT60SBLC</td>\n",
       "      <td>CFR</td>\n",
       "      <td>181.41252</td>\n",
       "      <td>181.41252</td>\n",
       "      <td>181.41252</td>\n",
       "      <td>181.41252</td>\n",
       "      <td>181.41252</td>\n",
       "      <td>NONCROSSBORDER</td>\n",
       "      <td>M167</td>\n",
       "      <td>2020-05-31</td>\n",
       "      <td>2020-05-24</td>\n",
       "      <td>4.34</td>\n",
       "      <td>262.5</td>\n",
       "      <td>MT</td>\n",
       "      <td>USD</td>\n",
       "      <td>650.0</td>\n",
       "      <td>747.41417</td>\n",
       "      <td>708.75</td>\n",
       "      <td>38.66417</td>\n",
       "      <td>690.0</td>\n",
       "      <td>0.893219</td>\n",
       "      <td>750.003219</td>\n",
       "      <td>2.996432</td>\n",
       "      <td>2</td>\n",
       "    </tr>\n",
       "  </tbody>\n",
       "</table>\n",
       "<p>1793 rows × 35 columns</p>\n",
       "</div>"
      ],
      "text/plain": [
       "     Contract Execution Date           PMT No.  Item No  Sales Contract No.  \\\n",
       "0                 2017-08-04  QTN-0000012192-1        1            30010898   \n",
       "1                 2017-11-22  QTN-0000013779-1        1            30012429   \n",
       "2                 2017-09-11  QTN-0000012648-1        1            30011297   \n",
       "3                 2017-05-15  QTN-0000010801-1        2            30009609   \n",
       "4                 2018-08-06  QTN-0000018707-1        1            30016459   \n",
       "...                      ...               ...      ...                 ...   \n",
       "1812              2020-02-20  QTN-0000029888-1        1            30027440   \n",
       "1813              2020-03-26  QTN-0000030542-1        1            30028105   \n",
       "1814              2020-04-08  QTN-0000030826-1        1            30028345   \n",
       "1815              2020-04-08  QTN-0000030829-1        1            30028350   \n",
       "1816              2020-05-27  QTN-0000031583-2        1            30029165   \n",
       "\n",
       "     Contract/Spot                Sold to Customer Name  \\\n",
       "0        QUOTATION                   DURA-MINE SDN BHD.   \n",
       "1        QUOTATION                CJ POLYMERS SDN. BHD.   \n",
       "2        QUOTATION                 SUMIKENG (M) SDN BHD   \n",
       "3        QUOTATION        ZHEJIANG FUTURE PETROCHEMICAL   \n",
       "4        QUOTATION           CHONG WAH PLASTICS SDN BHD   \n",
       "...            ...                                  ...   \n",
       "1812     QUOTATION                      PT. BERLINA TBK   \n",
       "1813     QUOTATION                   TYCOPLAS SDN. BHD.   \n",
       "1814     QUOTATION               PREMIUM PLAST CO., LTD   \n",
       "1815     QUOTATION                 INTERCORDIA CO., LTD   \n",
       "1816     QUOTATION  DISCOVERING PETROCHEMICAL CO., LTD.   \n",
       "\n",
       "      Sold to Customer Code  Customer_Type  Customer_Industry      Grade  \\\n",
       "0                8010000770      212.72594          212.72594  212.72594   \n",
       "1                8010000714      181.41252          181.41252  181.41252   \n",
       "2                8010001403      181.41252          181.41252  181.41252   \n",
       "3                8010001559      181.41252          181.41252  181.41252   \n",
       "4                8010000709      212.72594          212.72594  212.72594   \n",
       "...                     ...            ...                ...        ...   \n",
       "1812             8010001242      212.72594          212.72594  212.72594   \n",
       "1813             8010001493      212.72594          212.72594  212.72594   \n",
       "1814             8010001205      181.41252          181.41252  181.41252   \n",
       "1815             8010000926      181.41252          181.41252  181.41252   \n",
       "1816             8010006692      181.41252          181.41252  181.41252   \n",
       "\n",
       "      Material Payment Term Incoterm    Country  Destination_Port  City_State  \\\n",
       "0     72000544         ZB30      DAP  212.72594         212.72594   212.72594   \n",
       "1     72000448     TT60SBLC      CFR  181.41252         181.41252   181.41252   \n",
       "2     72000539         ZM60      DAP  181.41252         181.41252   181.41252   \n",
       "3     72000448         LC60      CFR  181.41252         181.41252   181.41252   \n",
       "4     72000608         ZB60      DAP  212.72594         212.72594   212.72594   \n",
       "...        ...          ...      ...        ...               ...         ...   \n",
       "1812  72000448         LC60      CFR  212.72594         212.72594   212.72594   \n",
       "1813  72000608         ZM60      DAP  212.72594         212.72594   212.72594   \n",
       "1814  72000448         TT30      DDP  181.41252         181.41252   181.41252   \n",
       "1815  72000448     TT45SBLC      DDP  181.41252         181.41252   181.41252   \n",
       "1816  72000544     TT60SBLC      CFR  181.41252         181.41252   181.41252   \n",
       "\n",
       "      Shipping_Condition  Export_Domestic   Cross Boarder Plant       RETA  \\\n",
       "0              212.72594        212.72594  NONCROSSBORDER  M167 2017-08-08   \n",
       "1              181.41252        181.41252  NONCROSSBORDER  M059 2018-01-10   \n",
       "2              181.41252        181.41252  NONCROSSBORDER  M167 2017-09-30   \n",
       "3              181.41252        181.41252  NONCROSSBORDER  M059 2017-05-31   \n",
       "4              212.72594        212.72594  NONCROSSBORDER  M167 2018-08-31   \n",
       "...                  ...              ...             ...   ...        ...   \n",
       "1812           212.72594        212.72594  NONCROSSBORDER  M169 2020-03-31   \n",
       "1813           212.72594        212.72594  NONCROSSBORDER  M167 2020-03-31   \n",
       "1814           181.41252        181.41252  NONCROSSBORDER  M169 2020-04-30   \n",
       "1815           181.41252        181.41252  NONCROSSBORDER  M169 2020-04-30   \n",
       "1816           181.41252        181.41252  NONCROSSBORDER  M167 2020-05-31   \n",
       "\n",
       "        BL Date  EXCHANGE_RATE  QUANTITY UOM Currency  FLOOR_PRICE  \\\n",
       "0    2017-08-01           4.29      22.0  MT      USD       1070.0   \n",
       "1    2018-01-03           4.22     306.0  MT      USD       1290.0   \n",
       "2    2017-09-23           4.29      22.0  MT      USD       1170.0   \n",
       "3    2017-05-24           0.00     102.0  MT      USD       1190.0   \n",
       "4    2018-08-24           4.04     180.0  MT      USD       1190.0   \n",
       "...         ...            ...       ...  ..      ...          ...   \n",
       "1812 2020-03-24           4.06      17.5  MT      USD        910.0   \n",
       "1813 2020-03-24           4.20      22.5  MT      USD        860.0   \n",
       "1814 2020-04-23          32.48     402.5  MT      USD        746.0   \n",
       "1815 2020-04-23          32.48     262.5  MT      USD        746.0   \n",
       "1816 2020-05-24           4.34     262.5  MT      USD        650.0   \n",
       "\n",
       "      NORMALISED_INVOICE_PRICE  REFERENCE_MARKET_PRICE  Price Premium  \\\n",
       "0                   1150.98423                 1086.25       64.73423   \n",
       "1                   1235.58130                 1288.75      -53.16870   \n",
       "2                   1230.01552                 1135.00       95.01552   \n",
       "3                   1202.83563                 1302.50      -99.66437   \n",
       "4                   1312.38099                 1181.25      131.13099   \n",
       "...                        ...                     ...            ...   \n",
       "1812                1006.51320                  951.00       55.51320   \n",
       "1813                 850.84511                  872.50      -21.65489   \n",
       "1814                 925.20085                  945.00      -19.79915   \n",
       "1815                 952.93955                  945.00        7.93955   \n",
       "1816                 747.41417                  708.75       38.66417   \n",
       "\n",
       "      PRODUCTBASEPRICE  GRADEALPHA  INVOICEPRICE       node  segment  \n",
       "0               1090.0   20.000000   1177.000000  54.332144        5  \n",
       "1               1290.0   41.669931   1279.999931   2.996432        2  \n",
       "2               1160.0   53.080955   1261.000955  18.895034        1  \n",
       "3               1310.0   78.407735   1207.002265  18.895034        1  \n",
       "4               1210.0   21.566372   1336.996372   41.17277        4  \n",
       "...                ...         ...           ...        ...      ...  \n",
       "1812             950.0    1.229771   1009.999771  54.332144        5  \n",
       "1813             880.0   22.278356    874.998356  54.332144        5  \n",
       "1814             786.0    5.000000    926.000000   2.996432        2  \n",
       "1815             786.0    5.000000    955.000000   2.996432        2  \n",
       "1816             690.0    0.893219    750.003219   2.996432        2  \n",
       "\n",
       "[1793 rows x 35 columns]"
      ]
     },
     "execution_count": 112,
     "metadata": {},
     "output_type": "execute_result"
    }
   ],
   "source": [
    "data"
   ]
  },
  {
   "cell_type": "code",
   "execution_count": 114,
   "metadata": {
    "ExecuteTime": {
     "end_time": "2021-07-27T02:23:01.251791Z",
     "start_time": "2021-07-27T02:22:59.742621Z"
    },
    "scrolled": false
   },
   "outputs": [
    {
     "name": "stdout",
     "output_type": "stream",
     "text": [
      "Segment: 5\n",
      "cut_off_values: {'floor': -53.88018900000017, 'target': -21.249064999999952, 'offer': -5.6018000000000026}\n"
     ]
    },
    {
     "data": {
      "image/png": "[encoded data removed]",
      "text/plain": [
       "<Figure size 360x360 with 1 Axes>"
      ]
     },
     "metadata": {
      "needs_background": "light"
     },
     "output_type": "display_data"
    },
    {
     "name": "stdout",
     "output_type": "stream",
     "text": [
      "------------------------------------\n",
      "Segment: 2\n",
      "cut_off_values: {'floor': -119.81634700000001, 'target': -83.737435, 'offer': -67.96992340000004}\n"
     ]
    },
    {
     "data": {
      "image/png": "[encoded data removed]",
      "text/plain": [
       "<Figure size 360x360 with 1 Axes>"
      ]
     },
     "metadata": {
      "needs_background": "light"
     },
     "output_type": "display_data"
    },
    {
     "name": "stdout",
     "output_type": "stream",
     "text": [
      "------------------------------------\n",
      "Segment: 1\n",
      "cut_off_values: {'floor': -107.43575849999999, 'target': -56.454184999999995, 'offer': -40.32521}\n"
     ]
    },
    {
     "data": {
      "image/png": "[encoded data removed]",
      "text/plain": [
       "<Figure size 360x360 with 1 Axes>"
      ]
     },
     "metadata": {
      "needs_background": "light"
     },
     "output_type": "display_data"
    },
    {
     "name": "stdout",
     "output_type": "stream",
     "text": [
      "------------------------------------\n",
      "Segment: 4\n",
      "cut_off_values: {'floor': -43.654193299999534, 'target': -14.5000785000001, 'offer': -5.0288188000000025}\n"
     ]
    },
    {
     "data": {
      "image/png": "[encoded data removed]",
      "text/plain": [
       "<Figure size 360x360 with 1 Axes>"
      ]
     },
     "metadata": {
      "needs_background": "light"
     },
     "output_type": "display_data"
    },
    {
     "name": "stdout",
     "output_type": "stream",
     "text": [
      "------------------------------------\n",
      "Segment: 6\n",
      "cut_off_values: {'floor': -121.5297139, 'target': -82.2618945, 'offer': -66.43258500000007}\n"
     ]
    },
    {
     "data": {
      "image/png": "[encoded data removed]",
      "text/plain": [
       "<Figure size 360x360 with 1 Axes>"
      ]
     },
     "metadata": {
      "needs_background": "light"
     },
     "output_type": "display_data"
    },
    {
     "name": "stdout",
     "output_type": "stream",
     "text": [
      "------------------------------------\n",
      "Segment: 0\n",
      "cut_off_values: {'floor': -101.6488829, 'target': -76.6984535, 'offer': -54.08154000000002}\n"
     ]
    },
    {
     "data": {
      "image/png": "[encoded data removed]",
      "text/plain": [
       "<Figure size 360x360 with 1 Axes>"
      ]
     },
     "metadata": {
      "needs_background": "light"
     },
     "output_type": "display_data"
    },
    {
     "name": "stdout",
     "output_type": "stream",
     "text": [
      "------------------------------------\n",
      "Segment: 7\n",
      "cut_off_values: {'floor': -20.68504, 'target': 26.574799999999996, 'offer': 48.360659999999996}\n"
     ]
    },
    {
     "data": {
      "image/png": "[encoded data removed]",
      "text/plain": [
       "<Figure size 360x360 with 1 Axes>"
      ]
     },
     "metadata": {
      "needs_background": "light"
     },
     "output_type": "display_data"
    },
    {
     "name": "stdout",
     "output_type": "stream",
     "text": [
      "------------------------------------\n",
      "Segment: 3\n",
      "cut_off_values: {'floor': -50.070457999999945, 'target': -31.49908, 'offer': -29.9923328}\n"
     ]
    },
    {
     "data": {
      "image/png": "[encoded data removed]",
      "text/plain": [
       "<Figure size 360x360 with 1 Axes>"
      ]
     },
     "metadata": {
      "needs_background": "light"
     },
     "output_type": "display_data"
    },
    {
     "name": "stdout",
     "output_type": "stream",
     "text": [
      "------------------------------------\n"
     ]
    }
   ],
   "source": [
    "for segment in data['segment'].unique():\n",
    "\n",
    "    print('Segment:',segment)\n",
    "    \n",
    "    sub = data[data['segment']==segment]\n",
    "        \n",
    "    sns.displot(data=sub, x=target,alpha=0.5)\n",
    "    plt.title('Segment:'+str(segment))        \n",
    "\n",
    "    cut_off_values = dict()\n",
    "    \n",
    "    i = 0\n",
    "    for k,v in cut_off.items():\n",
    "    \n",
    "        cut_off_values[k] = np.percentile(sub[target], v*10)                \n",
    "        plt.axvline(np.percentile(sub[target], v*10), color=colors[i] )\n",
    "        \n",
    "        i=i+1\n",
    "        \n",
    "    print('cut_off_values:',cut_off_values)\n",
    "    \n",
    "\n",
    "    plt.show()\n",
    "    \n",
    "    \n",
    "    print('------------------------------------')\n",
    "    \n"
   ]
  },
  {
   "cell_type": "markdown",
   "metadata": {},
   "source": [
    "## With Power Price Index"
   ]
  },
  {
   "cell_type": "code",
   "execution_count": 115,
   "metadata": {
    "ExecuteTime": {
     "end_time": "2021-07-27T02:23:07.964220Z",
     "start_time": "2021-07-27T02:23:07.941052Z"
    }
   },
   "outputs": [
    {
     "name": "stdout",
     "output_type": "stream",
     "text": [
      "{0: {'floor': 0.01, 'offer': 0.99, 'target': 0.5},\n",
      " 1: {'floor': 0.15, 'offer': 0.95, 'target': 0.65},\n",
      " 2: {'floor': 0.05, 'offer': 0.95, 'target': 0.55},\n",
      " 3: {'floor': 0.1, 'offer': 0.9, 'target': 0.5},\n",
      " 4: {'floor': 0.05, 'offer': 0.95, 'target': 0.75},\n",
      " 5: {'floor': 0.15, 'offer': 0.85, 'target': 0.65},\n",
      " 6: {'floor': 0.25, 'offer': 0.95, 'target': 0.45},\n",
      " 7: {'floor': 0.01, 'offer': 0.95, 'target': 0.5}}\n"
     ]
    }
   ],
   "source": [
    "cut_off_price_power = dict()\n",
    "\n",
    "segment = 0\n",
    "cut_off_price_power[segment] = dict()\n",
    "cut_off_price_power[segment]['floor'] = 0.01\n",
    "cut_off_price_power[segment]['target'] = 0.5\n",
    "cut_off_price_power[segment]['offer'] = 0.99\n",
    "\n",
    "segment = 1\n",
    "cut_off_price_power[segment] = dict()\n",
    "cut_off_price_power[segment]['floor'] = 0.15\n",
    "cut_off_price_power[segment]['target'] = 0.65\n",
    "cut_off_price_power[segment]['offer'] = 0.95\n",
    "\n",
    "segment = 2\n",
    "cut_off_price_power[segment] = dict()\n",
    "cut_off_price_power[segment]['floor'] = 0.05\n",
    "cut_off_price_power[segment]['target'] = 0.55\n",
    "cut_off_price_power[segment]['offer'] = 0.95\n",
    "\n",
    "segment = 3\n",
    "cut_off_price_power[segment] = dict()\n",
    "cut_off_price_power[segment]['floor'] = 0.1\n",
    "cut_off_price_power[segment]['target'] = 0.5\n",
    "cut_off_price_power[segment]['offer'] = 0.9\n",
    "\n",
    "segment = 4\n",
    "cut_off_price_power[segment] = dict()\n",
    "cut_off_price_power[segment]['floor'] = 0.05\n",
    "cut_off_price_power[segment]['target'] = 0.75\n",
    "cut_off_price_power[segment]['offer'] = 0.95\n",
    "\n",
    "segment = 5\n",
    "cut_off_price_power[segment] = dict()\n",
    "cut_off_price_power[segment]['floor'] = 0.15\n",
    "cut_off_price_power[segment]['target'] = 0.65\n",
    "cut_off_price_power[segment]['offer'] = 0.85\n",
    "\n",
    "segment = 6\n",
    "cut_off_price_power[segment] = dict()\n",
    "cut_off_price_power[segment]['floor'] = 0.25\n",
    "cut_off_price_power[segment]['target'] = 0.45\n",
    "cut_off_price_power[segment]['offer'] = 0.95\n",
    "\n",
    "segment = 7\n",
    "cut_off_price_power[segment] = dict()\n",
    "cut_off_price_power[segment]['floor'] = 0.01\n",
    "cut_off_price_power[segment]['target'] = 0.5\n",
    "cut_off_price_power[segment]['offer'] = 0.95\n",
    "\n",
    "pprint.pprint(cut_off_price_power)"
   ]
  },
  {
   "cell_type": "code",
   "execution_count": 116,
   "metadata": {
    "ExecuteTime": {
     "end_time": "2021-07-27T02:23:10.088957Z",
     "start_time": "2021-07-27T02:23:08.909703Z"
    },
    "scrolled": false
   },
   "outputs": [
    {
     "name": "stdout",
     "output_type": "stream",
     "text": [
      "Segment: 5\n",
      "(211, 35)\n",
      "cut_off_values: {'floor': -42.106069500000004, 'target': -10.216194500000054, 'offer': -5.815997000000024}\n"
     ]
    },
    {
     "data": {
      "image/png": "[encoded data removed]",
      "text/plain": [
       "<Figure size 360x360 with 1 Axes>"
      ]
     },
     "metadata": {
      "needs_background": "light"
     },
     "output_type": "display_data"
    },
    {
     "name": "stdout",
     "output_type": "stream",
     "text": [
      "----------------------------------\n",
      "Segment: 2\n",
      "(195, 35)\n",
      "cut_off_values: {'floor': -121.8027236, 'target': -83.66323, 'offer': -61.04152229999984}\n"
     ]
    },
    {
     "data": {
      "image/png": "[encoded data removed]",
      "text/plain": [
       "<Figure size 360x360 with 1 Axes>"
      ]
     },
     "metadata": {
      "needs_background": "light"
     },
     "output_type": "display_data"
    },
    {
     "name": "stdout",
     "output_type": "stream",
     "text": [
      "----------------------------------\n",
      "Segment: 1\n",
      "(550, 35)\n",
      "cut_off_values: {'floor': -103.13390370000002, 'target': -51.0, 'offer': -40.08565765000009}\n"
     ]
    },
    {
     "data": {
      "image/png": "[encoded data removed]",
      "text/plain": [
       "<Figure size 360x360 with 1 Axes>"
      ]
     },
     "metadata": {
      "needs_background": "light"
     },
     "output_type": "display_data"
    },
    {
     "name": "stdout",
     "output_type": "stream",
     "text": [
      "----------------------------------\n",
      "Segment: 4\n",
      "(468, 35)\n",
      "cut_off_values: {'floor': -52.52316924999987, 'target': -7.707636000000068, 'offer': -5.028776350000027}\n"
     ]
    },
    {
     "data": {
      "image/png": "[encoded data removed]",
      "text/plain": [
       "<Figure size 360x360 with 1 Axes>"
      ]
     },
     "metadata": {
      "needs_background": "light"
     },
     "output_type": "display_data"
    },
    {
     "name": "stdout",
     "output_type": "stream",
     "text": [
      "----------------------------------\n",
      "Segment: 6\n",
      "(172, 35)\n",
      "cut_off_values: {'floor': -101.07243025, 'target': -83.8049298, 'offer': -64.50999999999999}\n"
     ]
    },
    {
     "data": {
      "image/png": "[encoded data removed]",
      "text/plain": [
       "<Figure size 360x360 with 1 Axes>"
      ]
     },
     "metadata": {
      "needs_background": "light"
     },
     "output_type": "display_data"
    },
    {
     "name": "stdout",
     "output_type": "stream",
     "text": [
      "----------------------------------\n",
      "Segment: 0\n",
      "(132, 35)\n",
      "cut_off_values: {'floor': -132.93026219, 'target': -76.6984535, 'offer': -51.09528036}\n"
     ]
    },
    {
     "data": {
      "image/png": "[encoded data removed]",
      "text/plain": [
       "<Figure size 360x360 with 1 Axes>"
      ]
     },
     "metadata": {
      "needs_background": "light"
     },
     "output_type": "display_data"
    },
    {
     "name": "stdout",
     "output_type": "stream",
     "text": [
      "----------------------------------\n",
      "Segment: 7\n",
      "(16, 35)\n",
      "cut_off_values: {'floor': -31.318504000000004, 'target': 26.574799999999996, 'offer': 48.80942999999999}\n"
     ]
    },
    {
     "data": {
      "image/png": "[encoded data removed]",
      "text/plain": [
       "<Figure size 360x360 with 1 Axes>"
      ]
     },
     "metadata": {
      "needs_background": "light"
     },
     "output_type": "display_data"
    },
    {
     "name": "stdout",
     "output_type": "stream",
     "text": [
      "----------------------------------\n",
      "Segment: 3\n",
      "(49, 35)\n",
      "cut_off_values: {'floor': -50.070457999999945, 'target': -31.49908, 'offer': -29.9923328}\n"
     ]
    },
    {
     "data": {
      "image/png": "[encoded data removed]",
      "text/plain": [
       "<Figure size 360x360 with 1 Axes>"
      ]
     },
     "metadata": {
      "needs_background": "light"
     },
     "output_type": "display_data"
    },
    {
     "name": "stdout",
     "output_type": "stream",
     "text": [
      "----------------------------------\n"
     ]
    }
   ],
   "source": [
    "for segment in data['segment'].unique():\n",
    "    \n",
    "    print('Segment:',segment)\n",
    "    \n",
    "    sub = data[data['segment']==segment]\n",
    "      \n",
    "    print(sub.shape)\n",
    "    \n",
    "#     sub[target].hist()\n",
    "        \n",
    "    sns.displot(data=sub, x=target, alpha=0.5)\n",
    "    plt.title('Segment:'+str(segment))        \n",
    "\n",
    "    cut_off_values = dict()\n",
    "    \n",
    "    i = 0\n",
    "    for k,v in cut_off_price_power[segment].items():\n",
    "    \n",
    "        cut_off_values[k] = np.percentile(sub[target], v*10)                \n",
    "        plt.axvline(np.percentile(sub[target], v*10), color=colors[i] )\n",
    "        \n",
    "        i=i+1\n",
    "        \n",
    "    print('cut_off_values:',cut_off_values)\n",
    "    \n",
    "\n",
    "    plt.show()\n",
    "    \n",
    "    print('----------------------------------')\n",
    "\n"
   ]
  },
  {
   "cell_type": "code",
   "execution_count": null,
   "metadata": {},
   "outputs": [],
   "source": []
  }
 ],
 "metadata": {
  "kernelspec": {
   "display_name": "Python 3",
   "language": "python",
   "name": "python3"
  },
  "language_info": {
   "codemirror_mode": {
    "name": "ipython",
    "version": 3
   },
   "file_extension": ".py",
   "mimetype": "text/x-python",
   "name": "python",
   "nbconvert_exporter": "python",
   "pygments_lexer": "ipython3",
   "version": "3.8.3"
  },
  "toc": {
   "base_numbering": 1,
   "nav_menu": {},
   "number_sections": true,
   "sideBar": true,
   "skip_h1_title": false,
   "title_cell": "Table of Contents",
   "title_sidebar": "Contents",
   "toc_cell": false,
   "toc_position": {
    "height": "calc(100% - 180px)",
    "left": "10px",
    "top": "150px",
    "width": "384px"
   },
   "toc_section_display": true,
   "toc_window_display": true
  },
  "varInspector": {
   "cols": {
    "lenName": 16,
    "lenType": 16,
    "lenVar": 40
   },
   "kernels_config": {
    "python": {
     "delete_cmd_postfix": "",
     "delete_cmd_prefix": "del ",
     "library": "var_list.py",
     "varRefreshCmd": "print(var_dic_list())"
    },
    "r": {
     "delete_cmd_postfix": ") ",
     "delete_cmd_prefix": "rm(",
     "library": "var_list.r",
     "varRefreshCmd": "cat(var_dic_list()) "
    }
   },
   "types_to_exclude": [
    "module",
    "function",
    "builtin_function_or_method",
    "instance",
    "_Feature"
   ],
   "window_display": false
  }
 },
 "nbformat": 4,
 "nbformat_minor": 4
}
